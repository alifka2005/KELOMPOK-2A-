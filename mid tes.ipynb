{
 "cells": [
  {
   "cell_type": "markdown",
   "metadata": {},
   "source": [
    "# Differentation"
   ]
  },
  {
   "cell_type": "markdown",
   "metadata": {},
   "source": [
    "1. Konsep Differentiation\n",
    "Differentiation (turunan) adalah salah satu konsep fundamental dalam kalkulus yang digunakan untuk menghitung laju perubahan suatu fungsi. Secara matematis, turunan dari fungsi Fungsi \\( f(x) \\) pada titik tertentu \\( x \\) didefinisikan sebagai:\n",
    "\n",
    "$$\n",
    "f'(x) = \\lim_{h \\to 0} \\frac{f(x+h) - f(x)}{h}\n",
    "$$\n",
    "\n",
    "Aturan Dasar Differentiation:  \n",
    "Turunan Konstanta:\n",
    "$$\n",
    "\\frac{d}{dx}[c] = 0\n",
    "$$\n",
    "\n",
    "​(di mana c adalah konstanta)\n",
    "\n",
    "Turunan Fungsi Linear:\n",
    "$$\n",
    "\\frac{d}{dx}[ax + b] = a\n",
    "$$\n",
    "\n",
    "Aturan Pangkat (Power Rule):\n",
    "$$\n",
    "\\frac{d}{dx}[x^n] = n \\cdot x^{n-1}\n",
    "$$\n",
    "\n",
    " \n",
    "Aturan Perkalian (Product Rule):\n",
    "$$\n",
    "\\frac{d}{dx}[u \\cdot v] = u' \\cdot v + u \\cdot v'\n",
    "$$\n",
    "\n",
    " \n",
    "Aturan Pembagian (Quotient Rule):\n",
    "$$\n",
    "\\frac{d}{dx}\\left[\\frac{u}{v}\\right] = \\frac{u' \\cdot v - u \\cdot v'}{v^2}\n",
    "$$\n",
    " \n",
    " \n",
    "Aturan Rantai (Chain Rule):\n",
    "$$\n",
    "\\frac{d}{dx}\\left[\\frac{u}{v}\\right] = \\frac{u' \\cdot v - u \\cdot v'}{v^2}\n",
    "$$\n",
    "\n",
    "\n",
    "Aplikasi Differentiation:\n",
    "Menentukan kemiringan garis singgung suatu kurva.\n",
    "Menghitung kecepatan atau percepatan dalam fisika.\n",
    "Mencari nilai maksimum atau minimum suatu fungsi (optimasi)."
   ]
  },
  {
   "cell_type": "markdown",
   "metadata": {},
   "source": [
    "### Soal 1\n",
    "##### Turunan Fungsi Polinomial\n",
    "Hitung turunan pertama dari fungsi:\n",
    "\n",
    "$$\n",
    "f(x) = 3x^3 - 5x^2 + 2x - 7\n",
    "$$\n"
   ]
  },
  {
   "cell_type": "code",
   "execution_count": 1,
   "metadata": {},
   "outputs": [
    {
     "name": "stdout",
     "output_type": "stream",
     "text": [
      "Turunan pertama f(x): 9*x**2 - 10*x + 2\n"
     ]
    }
   ],
   "source": [
    "from sympy import symbols, diff\n",
    "\n",
    "# Definisikan variabel dan fungsi\n",
    "x = symbols('x')\n",
    "f = 3*x**3 - 5*x**2 + 2*x - 7\n",
    "\n",
    "# Hitung turunan\n",
    "f_prime = diff(f, x)\n",
    "print(\"Turunan pertama f(x):\", f_prime)"
   ]
  },
  {
   "cell_type": "markdown",
   "metadata": {},
   "source": [
    "### Soal 2\n",
    "#### Turunan Fungsi Trigonometri\n",
    "Hitung turunan pertama dari fungsi:\n",
    "\n",
    "$$\n",
    "g(x) = \\sin(x) \\cdot \\cos(x)\n",
    "$$"
   ]
  },
  {
   "cell_type": "code",
   "execution_count": 2,
   "metadata": {},
   "outputs": [
    {
     "name": "stdout",
     "output_type": "stream",
     "text": [
      "Turunan pertama g(x): -sin(x)**2 + cos(x)**2\n"
     ]
    }
   ],
   "source": [
    "from sympy import sin, cos\n",
    "\n",
    "# Definisikan fungsi\n",
    "g = sin(x) * cos(x)\n",
    "\n",
    "# Hitung turunan\n",
    "g_prime = diff(g, x)\n",
    "print(\"Turunan pertama g(x):\", g_prime)"
   ]
  },
  {
   "cell_type": "markdown",
   "metadata": {},
   "source": [
    "### Soal 3\n",
    "#### Aplikasi Differentation (Optimasi)\n",
    "Diberikan fungsi\n",
    "$$\n",
    "h(x) = -2x^2 + 4x + 1\n",
    "$$\n",
    "\n",
    "Tentukan nilai maksimum fungsi berikut."
   ]
  },
  {
   "cell_type": "code",
   "execution_count": null,
   "metadata": {},
   "outputs": [
    {
     "name": "stdout",
     "output_type": "stream",
     "text": [
      "Titik kritis: [1]\n",
      "Nilai h(x) pada x = 1: 3\n"
     ]
    }
   ],
   "source": [
    "from sympy import solve\n",
    "\n",
    "# Definisikan fungsi\n",
    "h = -2*x**2 + 4*x + 1\n",
    "\n",
    "# Hitung turunan pertama\n",
    "h_prime = diff(h, x)\n",
    "\n",
    "# Cari titik kritis (h'(x) = 0)\n",
    "critical_points = solve(h_prime, x)\n",
    "print(\"Titik kritis:\", critical_points)\n",
    "\n",
    "# Evaluasi nilai maksimum\n",
    "for point in critical_points:\n",
    "    print(f\"Nilai h(x) pada x = {point}:\", h.subs(x, point))"
   ]
  },
  {
   "cell_type": "code",
   "execution_count": 1,
   "metadata": {},
   "outputs": [
    {
     "data": {
      "text/plain": [
       "([1], [1], [3])"
      ]
     },
     "execution_count": 1,
     "metadata": {},
     "output_type": "execute_result"
    }
   ],
   "source": [
    "import sympy as sp\n",
    "\n",
    "# Definisikan variabel dan fungsi h(x)\n",
    "x = sp.symbols('x')\n",
    "h = -2*x**2 + 4*x + 1\n",
    "\n",
    "# 1. Turunan pertama (h')\n",
    "h_prime = sp.diff(h, x)\n",
    "\n",
    "# 2. Cari titik kritis dengan menyelesaikan h'(x) = 0\n",
    "x_critical = sp.solve(h_prime, x)\n",
    "\n",
    "# 3. Turunan kedua (h'')\n",
    "h_double_prime = sp.diff(h_prime, x)\n",
    "\n",
    "# 4. Mengevaluasi turunan kedua pada titik kritis\n",
    "second_derivative_at_critical_points = [h_double_prime.subs(x, xc) for xc in x_critical]\n",
    "\n",
    "# 5. Menentukan apakah titik kritis adalah maksimum atau minimum\n",
    "maximum_points = [xc for xc, second_derivative in zip(x_critical, second_derivative_at_critical_points) if second_derivative < 0]\n",
    "\n",
    "# 6. Evaluasi fungsi pada titik maksimum\n",
    "h_at_maximum = [h.subs(x, mp) for mp in maximum_points]\n",
    "\n",
    "# Hasil\n",
    "x_critical, maximum_points, h_at_maximum\n"
   ]
  }
 ],
 "metadata": {
  "kernelspec": {
   "display_name": "geomath",
   "language": "python",
   "name": "python3"
  },
  "language_info": {
   "codemirror_mode": {
    "name": "ipython",
    "version": 3
   },
   "file_extension": ".py",
   "mimetype": "text/x-python",
   "name": "python",
   "nbconvert_exporter": "python",
   "pygments_lexer": "ipython3",
   "version": "3.13.2"
  }
 },
 "nbformat": 4,
 "nbformat_minor": 2
}
