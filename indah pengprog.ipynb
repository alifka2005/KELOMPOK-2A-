{
 "cells": [
  {
   "cell_type": "markdown",
   "metadata": {},
   "source": [
    "# **NAMA : INDAH**\n",
    "# **NIM  : H061241004**"
   ]
  },
  {
   "cell_type": "markdown",
   "metadata": {},
   "source": [
    "**Soal 1**: Seorang pelanggan membeli buah di pasar. Jika 3 angka terakhir NIM Anda genap, dia mendapatkan diskon 10%. Jika ganjil, diskon 5%. Buat program untuk menghitung total harga.  \n"
   ]
  },
  {
   "cell_type": "code",
   "execution_count": 1,
   "metadata": {},
   "outputs": [
    {
     "name": "stdout",
     "output_type": "stream",
     "text": [
      "Diskon yang didapatkan: 10%\n",
      "Jadi total harga setelah diskon: Rp 18000.00\n"
     ]
    }
   ],
   "source": [
    "harga = 20000\n",
    "nim = 4\n",
    "\n",
    "genap = nim  \n",
    "if genap % 2 == 0:  \n",
    "    diskon = 0.10  # Diskon 10%\n",
    "else:  \n",
    "    diskon = 0.05  # Diskon 5%\n",
    "\n",
    "total_harga = harga - (harga * diskon)\n",
    "\n",
    "\n",
    "print(f\"Diskon yang didapatkan: {int(diskon * 100)}%\")\n",
    "print(f\"Jadi total harga setelah diskon: Rp {total_harga:.2f}\")"
   ]
  },
  {
   "cell_type": "markdown",
   "metadata": {},
   "source": [
    "**Soal 2**: Seorang siswa ingin menentukan apakah dia lulus ujian. Jika 3 angka terakhir NIM Anda > 500, syarat kelulusan adalah nilai >= 80. Jika tidak, syaratnya nilai >= 75. Buat program untuk menentukan kelulusannya."
   ]
  },
  {
   "cell_type": "code",
   "execution_count": 2,
   "metadata": {},
   "outputs": [
    {
     "name": "stdout",
     "output_type": "stream",
     "text": [
      "Lulus\n"
     ]
    }
   ],
   "source": [
    "nilai = 83\n",
    "nim = 4\n",
    "\n",
    "\n",
    "tiga_angka_terakhir = nim % 1000\n",
    "if tiga_angka_terakhir > 500:\n",
    "    if nilai >= 80:\n",
    "        print(\"Lulus\")\n",
    "    else:\n",
    "        print(\"Tidak Lulus\")\n",
    "else:\n",
    "    if nilai >= 75:\n",
    "        print(\"Lulus\")\n",
    "    else:\n",
    "        print(\"Tidak Lulus\")"
   ]
  },
  {
   "cell_type": "markdown",
   "metadata": {},
   "source": [
    "**Soal 3**: Sebuah toko online memberikan gratis ongkir jika total belanja di atas Rp 200.000 ditambah 3 angka terakhir NIM Anda. Buat program untuk menentukan apakah pelanggan mendapatkan gratis ongkir."
   ]
  },
  {
   "cell_type": "code",
   "execution_count": 4,
   "metadata": {},
   "outputs": [
    {
     "name": "stdout",
     "output_type": "stream",
     "text": [
      "mendapatkan gratis ongkir\n"
     ]
    }
   ],
   "source": [
    "total_belanja = 250000\n",
    "nim = 4\n",
    "\n",
    "if total_belanja > 200000 + nim:\n",
    "    print ('mendapatkan gratis ongkir')  \n",
    "\n",
    "else:\n",
    "    print ('tidak mendapatkan gratis ongkir')\n"
   ]
  },
  {
   "cell_type": "markdown",
   "metadata": {},
   "source": [
    "**Soal 4**: Seorang karyawan mendapatkan bonus jika bekerja lebih dari 40 jam. Bonusnya adalah 10% dari gaji ditambah 3 angka terakhir NIM Anda. Buat program untuk menghitung gaji karyawan."
   ]
  },
  {
   "cell_type": "code",
   "execution_count": 5,
   "metadata": {},
   "outputs": [
    {
     "name": "stdout",
     "output_type": "stream",
     "text": [
      "Bonus yang didapatkan: Rp 1504.00\n",
      "Jadi total gaji setelah bonus: Rp 16504.00\n"
     ]
    }
   ],
   "source": [
    "gaji = 15000\n",
    "jam_kerja = 45\n",
    "nim = 4\n",
    "\n",
    "if jam_kerja > 40:\n",
    "    bonus = (0.10 * gaji) + nim\n",
    "    total_gaji = gaji + bonus\n",
    "    print(f\"Bonus yang didapatkan: Rp {bonus:.2f}\")\n",
    "    print(f\"Jadi total gaji setelah bonus: Rp {total_gaji:.2f}\")\n",
    "else:\n",
    "    print(f\"Tidak ada bonus. Total gaji: Rp {gaji:.2f}\")"
   ]
  },
  {
   "cell_type": "markdown",
   "metadata": {},
   "source": [
    "**Soal 5**: Sebuah restoran mengenakan biaya tambahan 5% untuk pajak jika total pesanan di atas Rp 50.000 dikurangi 3 angka terakhir NIM Anda. Buat program untuk menghitung total biaya."
   ]
  },
  {
   "cell_type": "code",
   "execution_count": 6,
   "metadata": {},
   "outputs": [
    {
     "name": "stdout",
     "output_type": "stream",
     "text": [
      "pajak yang didapatkan: 4400.0%\n",
      "Total biaya setelah pajak: Rp 88000.05\n"
     ]
    }
   ],
   "source": [
    "total_pesanan = 88000\n",
    "nim = 4 \n",
    "\n",
    "if total_pesanan > 50000 - nim:\n",
    "    pajak = 0.05\n",
    "    total_biaya = total_pesanan + pajak\n",
    "    print(f\"pajak yang didapatkan: {pajak * total_pesanan}%\")\n",
    "    print(f\"Total biaya setelah pajak: Rp {total_biaya:.2f}\")\n",
    "else:\n",
    "    print(f\"Total biaya: Rp {total_pesanan:.2f} (Tidak ada pajak)\")"
   ]
  },
  {
   "cell_type": "markdown",
   "metadata": {},
   "source": [
    "**Soal 6**: Seorang pelari ingin menentukan apakah dia berhasil memenuhi target latihan. Jika jarak lari > (3 angka terakhir NIM Anda), dia berhasil. Buat program untuk menentukan hasil latihannya."
   ]
  },
  {
   "cell_type": "code",
   "execution_count": 7,
   "metadata": {},
   "outputs": [
    {
     "name": "stdout",
     "output_type": "stream",
     "text": [
      "Selamat! Anda berhasil memenuhi target latihan (>5 km).\n"
     ]
    }
   ],
   "source": [
    "jarak_lari = 9\n",
    "nim = 4\n",
    "target_latihan = nim + 1\n",
    "\n",
    "if jarak_lari > target_latihan:\n",
    "    print(f\"Selamat! Anda berhasil memenuhi target latihan (>{target_latihan} km).\")\n",
    "else:\n",
    "    print(f\"Maaf, Anda belum memenuhi target latihan (>{target_latihan} km).\")"
   ]
  },
  {
   "cell_type": "markdown",
   "metadata": {},
   "source": [
    "**Soal 7**: Sebuah bioskop memberikan tiket gratis untuk anak di bawah 5 tahun jika 3 angka terakhir NIM Anda genap. Jika ganjil, diskon 50%. Buat program untuk menentukan harga tiket."
   ]
  },
  {
   "cell_type": "code",
   "execution_count": 8,
   "metadata": {},
   "outputs": [
    {
     "name": "stdout",
     "output_type": "stream",
     "text": [
      "Diskon yang didapatkan: 100%\n",
      "Harga tiket setelah diskon: Rp 0.00\n"
     ]
    }
   ],
   "source": [
    "harga_tiket = 80000\n",
    "nim = 4\n",
    "\n",
    "\n",
    "if nim % 2 == 0:\n",
    "    diskon = 1 \n",
    "else:\n",
    "    diskon = 0.50\n",
    "\n",
    "harga_setelah_diskon = harga_tiket - (harga_tiket * diskon)\n",
    "\n",
    "print(f\"Diskon yang didapatkan: {int(diskon * 100)}%\")\n",
    "print(f\"Harga tiket setelah diskon: Rp {harga_setelah_diskon:.2f}\")"
   ]
  },
  {
   "cell_type": "markdown",
   "metadata": {},
   "source": [
    "**Soal 8**: Sebuah toko buku memberikan diskon 20% jika pelanggan membeli lebih dari 5 buku dan 3 angka terakhir NIM Anda > 300. Jika tidak, diskon 10%. Buat program untuk menghitung total harga."
   ]
  },
  {
   "cell_type": "code",
   "execution_count": 9,
   "metadata": {},
   "outputs": [
    {
     "name": "stdout",
     "output_type": "stream",
     "text": [
      "Diskon yang didapatkan: 10%\n",
      "Total harga sebelum diskon: Rp 115000.00\n",
      "Total harga setelah diskon: Rp 103500.00\n"
     ]
    }
   ],
   "source": [
    "jumlah_buku = 23\n",
    "harga_per_buku = 5000\n",
    "nim = 4\n",
    "\n",
    "if jumlah_buku > 5 and nim > 300:\n",
    "    diskon = 0.20  \n",
    "else:\n",
    "    diskon = 0.10 \n",
    "\n",
    "total_harga_sebelum_diskon = jumlah_buku * harga_per_buku\n",
    "\n",
    "total_harga_setelah_diskon = total_harga_sebelum_diskon - (total_harga_sebelum_diskon * diskon)\n",
    "\n",
    "print(f\"Diskon yang didapatkan: {int(diskon * 100)}%\")\n",
    "print(f\"Total harga sebelum diskon: Rp {total_harga_sebelum_diskon:.2f}\")\n",
    "print(f\"Total harga setelah diskon: Rp {total_harga_setelah_diskon:.2f}\")"
   ]
  },
  {
   "cell_type": "markdown",
   "metadata": {},
   "source": [
    "**Soal 9**: Seorang mahasiswa ingin menentukan apakah suatu bilangan genap atau ganjil. Jika 3 angka terakhir NIM Anda genap, cetak \"Genap\". Jika ganjil, cetak \"Ganjil\"."
   ]
  },
  {
   "cell_type": "code",
   "execution_count": 10,
   "metadata": {},
   "outputs": [
    {
     "name": "stdout",
     "output_type": "stream",
     "text": [
      "genap\n"
     ]
    }
   ],
   "source": [
    "nim = 4\n",
    "\n",
    "if nim > 0:\n",
    "    if nim % 2 == 0:  \n",
    "        print(\"genap\")\n",
    "    else:  \n",
    "        print(\"ganjil\")\n",
    "elif nim < 0:\n",
    "    if nim % 2 == 0:  \n",
    "        print(\"genap\")\n",
    "    else:  \n",
    "        print(\"ganjil\")\n",
    "else:  \n",
    "    print(\"Nol\")"
   ]
  },
  {
   "cell_type": "markdown",
   "metadata": {},
   "source": [
    "**Soal 10**: Sebuah aplikasi menentukan apakah suatu tahun adalah tahun kabisat. Jika 3 angka terakhir NIM Anda genap, cetak \"Kabisat\". Jika ganjil, cetak \"Bukan Kabisat\"."
   ]
  },
  {
   "cell_type": "code",
   "execution_count": 11,
   "metadata": {},
   "outputs": [
    {
     "name": "stdout",
     "output_type": "stream",
     "text": [
      "kabisat\n"
     ]
    }
   ],
   "source": [
    "nim = 4\n",
    "\n",
    "if nim % 2 ==0 :\n",
    "    print(\"kabisat\")\n",
    "else:\n",
    "    print (\"bukan kabisat\")"
   ]
  },
  {
   "cell_type": "markdown",
   "metadata": {},
   "source": [
    "**Soal 11**: Seorang pelanggan ingin mencetak daftar belanjaannya sebanyak (3 angka terakhir NIM Anda % 10) kali. Buat program untuk mencetak daftar belanja tersebut."
   ]
  },
  {
   "cell_type": "code",
   "execution_count": 13,
   "metadata": {},
   "outputs": [
    {
     "name": "stdout",
     "output_type": "stream",
     "text": [
      "Daftar belanjaan ke-1: daster, rok,dan sepatu \n",
      "Daftar belanjaan ke-2: daster, rok,dan sepatu \n",
      "Daftar belanjaan ke-3: daster, rok,dan sepatu \n",
      "Daftar belanjaan ke-4: daster, rok,dan sepatu \n"
     ]
    }
   ],
   "source": [
    "daftar_belanja = \"daster, rok,dan sepatu \"\n",
    "nim = 4\n",
    "\n",
    "jumlah_pengulangan = nim % 10\n",
    "\n",
    "for i in range(jumlah_pengulangan):\n",
    "    print(f\"Daftar belanjaan ke-{i+1}: {daftar_belanja}\")"
   ]
  },
  {
   "cell_type": "markdown",
   "metadata": {},
   "source": [
    "**Soal 12**: Seorang guru ingin mencetak angka dari 1 sampai 100, tetapi hanya bilangan kelipatan (3 angka terakhir NIM Anda % 5). Buat program untuk mencetak bilangan tersebut."
   ]
  },
  {
   "cell_type": "code",
   "execution_count": 14,
   "metadata": {},
   "outputs": [
    {
     "name": "stdout",
     "output_type": "stream",
     "text": [
      "Bilangan kelipatan 4 dari 1 sampai 100:\n",
      "4 8 12 16 20 24 28 32 36 40 44 48 52 56 60 64 68 72 76 80 84 88 92 96 100 "
     ]
    }
   ],
   "source": [
    "nim = 4\n",
    "\n",
    "kelipatan = nim % 5  \n",
    "\n",
    "\n",
    "print(f\"Bilangan kelipatan {kelipatan} dari 1 sampai 100:\")\n",
    "for i in range(1, 101):\n",
    "    if i % kelipatan == 0:\n",
    "        print(i, end=\" \")"
   ]
  },
  {
   "cell_type": "markdown",
   "metadata": {},
   "source": [
    "**Soal 13**: Seorang penjual ingin mencetak tabel perkalian (3 angka terakhir NIM Anda % 9). Buat program untuk mencetak tabel tersebut.\n"
   ]
  },
  {
   "cell_type": "code",
   "execution_count": 15,
   "metadata": {},
   "outputs": [
    {
     "name": "stdout",
     "output_type": "stream",
     "text": [
      "Tabel perkalian 4:\n",
      "4 x 1 = 4\n",
      "4 x 2 = 8\n",
      "4 x 3 = 12\n",
      "4 x 4 = 16\n",
      "4 x 5 = 20\n",
      "4 x 6 = 24\n",
      "4 x 7 = 28\n",
      "4 x 8 = 32\n",
      "4 x 9 = 36\n",
      "4 x 10 = 40\n"
     ]
    }
   ],
   "source": [
    "nim = 4\n",
    "\n",
    "angka = nim % 9\n",
    "\n",
    "print(f\"Tabel perkalian {angka}:\")\n",
    "for i in range(1, 11):\n",
    "    print(f\"{angka} x {i} = {angka * i}\")"
   ]
  },
  {
   "cell_type": "markdown",
   "metadata": {},
   "source": [
    "**Soal 14**: Seorang pelukis ingin mencetak pola bintang segitiga siku-siku dengan tinggi (3 angka terakhir NIM Anda % 7). Buat program untuk mencetak pola tersebut."
   ]
  },
  {
   "cell_type": "code",
   "execution_count": 16,
   "metadata": {},
   "outputs": [
    {
     "name": "stdout",
     "output_type": "stream",
     "text": [
      "Pola bintang dengan tinggi 4:\n",
      "*\n",
      "**\n",
      "***\n",
      "****\n"
     ]
    }
   ],
   "source": [
    "nim = 4\n",
    "\n",
    "sisi = nim % 7\n",
    "\n",
    "if sisi > 0:\n",
    "    print(f\"Pola bintang dengan tinggi {sisi}:\")\n",
    "    for i in range(1, sisi + 1):\n",
    "        print(\"*\" * i)\n",
    "else:\n",
    "    print(\"Tinggi segitiga tidak valid (harus lebih besar dari 0).\")"
   ]
  },
  {
   "cell_type": "markdown",
   "metadata": {},
   "source": [
    "**Soal 15**: Seorang peneliti ingin mencetak bilangan prima dari 1 sampai (3 angka terakhir NIM Anda). Buat program untuk mencetak bilangan prima tersebut."
   ]
  },
  {
   "cell_type": "code",
   "execution_count": 17,
   "metadata": {},
   "outputs": [
    {
     "name": "stdout",
     "output_type": "stream",
     "text": [
      "Bilangan prima dari 1 sampai 4:\n",
      "2 3 "
     ]
    }
   ],
   "source": [
    "nim = 4\n",
    "\n",
    "batas = nim % 1000\n",
    "\n",
    "def is_prime(n):\n",
    "    if n < 2:\n",
    "        return False\n",
    "    for i in range(2, int(n**0.5) + 1):\n",
    "        if n % i == 0:\n",
    "            return False\n",
    "    return True  \n",
    "print(f\"Bilangan prima dari 1 sampai {batas}:\")\n",
    "for i in range(1, batas + 1):\n",
    "    if is_prime(i):\n",
    "        print(i, end=\" \")"
   ]
  },
  {
   "cell_type": "markdown",
   "metadata": {},
   "source": [
    "**Soal 16**: Seorang programmer ingin mencetak deret Fibonacci sebanyak (3 angka terakhir NIM Anda % 10) bilangan. Buat program untuk mencetak deret tersebut.\n"
   ]
  },
  {
   "cell_type": "code",
   "execution_count": 18,
   "metadata": {},
   "outputs": [
    {
     "name": "stdout",
     "output_type": "stream",
     "text": [
      "Deret Fibonacci sebanyak 4 angka:\n",
      "0 1 1 2 "
     ]
    }
   ],
   "source": [
    "nim = 4\n",
    "\n",
    "jumlah_fibonacci = nim % 1000 % 10\n",
    "\n",
    "def fibonacci(n):\n",
    "    a, b = 0, 1\n",
    "    for _ in range(n):\n",
    "        print(a, end=\" \")\n",
    "        a, b = b, a + b  \n",
    "print(f\"Deret Fibonacci sebanyak {jumlah_fibonacci} angka:\")\n",
    "fibonacci(jumlah_fibonacci)"
   ]
  },
  {
   "cell_type": "markdown",
   "metadata": {},
   "source": [
    "**Soal 17**: Seorang petani ingin mencetak bilangan kelipatan (3 angka terakhir NIM Anda % 6) dari 1 sampai 100. Buat program untuk mencetak bilangan tersebut."
   ]
  },
  {
   "cell_type": "code",
   "execution_count": 19,
   "metadata": {},
   "outputs": [
    {
     "name": "stdout",
     "output_type": "stream",
     "text": [
      "Bilangan kelipatan 4 dari 1 sampai 100:\n",
      "4 8 12 16 20 24 28 32 36 40 44 48 52 56 60 64 68 72 76 80 84 88 92 96 100 "
     ]
    }
   ],
   "source": [
    "nim = 4\n",
    "\n",
    "kelipatan = nim % 1000 % 6 \n",
    " \n",
    "print(f\"Bilangan kelipatan {kelipatan} dari 1 sampai 100:\")\n",
    "for i in range(1, 101):\n",
    "    if i % kelipatan == 0:\n",
    "        print(i, end=\" \")"
   ]
  },
  {
   "cell_type": "markdown",
   "metadata": {},
   "source": [
    "**Soal 18**: Seorang siswa ingin mencetak bilangan ganjil dari 1 sampai (3 angka terakhir NIM Anda). Buat program untuk mencetak bilangan tersebut."
   ]
  },
  {
   "cell_type": "code",
   "execution_count": 20,
   "metadata": {},
   "outputs": [
    {
     "name": "stdout",
     "output_type": "stream",
     "text": [
      "Bilangan ganjil dari 1 sampai 4:\n",
      "1 3 "
     ]
    }
   ],
   "source": [
    "nim = 4 \n",
    "\n",
    "batas = nim % 1000 \n",
    "\n",
    "print(f\"Bilangan ganjil dari 1 sampai {batas}:\")\n",
    "for i in range(1, batas + 1, 2):  # Mulai dari 1, dengan langkah 2 (bilangan ganjil)\n",
    "    print(i, end=\" \")"
   ]
  },
  {
   "cell_type": "markdown",
   "metadata": {},
   "source": [
    "**Soal 19**: Seorang penjual ingin mencetak faktorial dari (3 angka terakhir NIM Anda % 8). Buat program untuk mencetak faktorial tersebut."
   ]
  },
  {
   "cell_type": "code",
   "execution_count": 21,
   "metadata": {},
   "outputs": [
    {
     "name": "stdout",
     "output_type": "stream",
     "text": [
      "Faktorial dari 4 adalah 24\n"
     ]
    }
   ],
   "source": [
    "nim = 4\n",
    "\n",
    "angka = nim % 1000 % 8  \n",
    "\n",
    "def faktorial(n):\n",
    "    hasil = 1\n",
    "    for i in range(1, n + 1):\n",
    "        hasil *= i\n",
    "    return hasil  \n",
    "\n",
    "print(f\"Faktorial dari {angka} adalah {faktorial(angka)}\")"
   ]
  },
  {
   "cell_type": "markdown",
   "metadata": {},
   "source": [
    "**Soal 20**: Seorang pelanggan ingin mencetak \"Terima Kasih\" sebanyak (3 angka terakhir NIM Anda % 5) kali. Buat program untuk mencetak pesan tersebut."
   ]
  },
  {
   "cell_type": "code",
   "execution_count": 23,
   "metadata": {},
   "outputs": [
    {
     "name": "stdout",
     "output_type": "stream",
     "text": [
      "Terima Kasih\n",
      "Terima Kasih\n",
      "Terima Kasih\n",
      "Terima Kasih\n"
     ]
    }
   ],
   "source": [
    "nim = 4\n",
    "\n",
    "jumlah_pesan = nim % 1000 % 5\n",
    "for _ in range(jumlah_pesan):\n",
    "        print(\"Terima Kasih\")"
   ]
  }
 ],
 "metadata": {
  "kernelspec": {
   "display_name": "pengprog",
   "language": "python",
   "name": "python3"
  },
  "language_info": {
   "codemirror_mode": {
    "name": "ipython",
    "version": 3
   },
   "file_extension": ".py",
   "mimetype": "text/x-python",
   "name": "python",
   "nbconvert_exporter": "python",
   "pygments_lexer": "ipython3",
   "version": "3.13.2"
  }
 },
 "nbformat": 4,
 "nbformat_minor": 2
}
