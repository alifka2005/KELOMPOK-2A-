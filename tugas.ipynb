{
 "cells": [
  {
   "cell_type": "markdown",
   "metadata": {},
   "source": [
    "# JAWABAN"
   ]
  },
  {
   "cell_type": "markdown",
   "metadata": {},
   "source": [
    "### Nama: Dirga Alin Cristin Rero\n",
    "### NIM : H061241016\n",
    "### Kelas : A"
   ]
  },
  {
   "cell_type": "code",
   "execution_count": 4,
   "metadata": {},
   "outputs": [
    {
     "name": "stdout",
     "output_type": "stream",
     "text": [
      "Total harga setelah diskon: Rp139.50\n"
     ]
    }
   ],
   "source": [
    "def hitung_total_harga(harga_awal):\n",
    "    diskon = 0.10  # 10% diskon\n",
    "    harga_setelah_diskon = harga_awal - (harga_awal * diskon)\n",
    "    return harga_setelah_diskon\n",
    "\n",
    "# Input harga awal dari pengguna\n",
    "harga_awal = float(input(\"Masukkan harga total sebelum diskon: 155.000 \"))\n",
    "\n",
    "# Hitung harga setelah diskon\n",
    "total_harga = hitung_total_harga(harga_awal)\n",
    "\n",
    "# Tampilkan hasil\n",
    "print(f\"Total harga setelah diskon: Rp{total_harga:.2f}\")\n"
   ]
  },
  {
   "cell_type": "code",
   "execution_count": 3,
   "metadata": {},
   "outputs": [
    {
     "name": "stdout",
     "output_type": "stream",
     "text": [
      "Siswa Lulus\n"
     ]
    }
   ],
   "source": [
    "# Program untuk menentukan kelulusan siswa\n",
    "\n",
    "# Input nilai siswa\n",
    "nilai = float(input(\"Masukkan nilai siswa: \"))\n",
    "\n",
    "# Menentukan kelulusan\n",
    "if nilai >= 75:\n",
    "    print(\"Siswa Lulus\")\n",
    "else:\n",
    "    print(\"Siswa Tidak Lulus\")"
   ]
  },
  {
   "cell_type": "code",
   "execution_count": 5,
   "metadata": {},
   "outputs": [
    {
     "name": "stdout",
     "output_type": "stream",
     "text": [
      "Maaf, Anda tidak mendapatkan gratis ongkir.\n"
     ]
    }
   ],
   "source": [
    "# Program untuk menentukan gratis ongkir\n",
    "\n",
    "# Input total belanja\n",
    "total_belanja = float(input(\"Masukkan total belanja (dalam Rp):123 \"))\n",
    "\n",
    "# Menentukan apakah mendapatkan gratis ongkir\n",
    "if total_belanja > 216000:\n",
    "    print(\"Selamat! Anda mendapatkan gratis ongkir.\")\n",
    "else:\n",
    "    print(\"Maaf, Anda tidak mendapatkan gratis ongkir.\")"
   ]
  },
  {
   "cell_type": "code",
   "execution_count": 7,
   "metadata": {},
   "outputs": [
    {
     "name": "stdout",
     "output_type": "stream",
     "text": [
      "Gaji pokok: Rp 3.55\n",
      "Bonus: Rp 0.00\n",
      "Total gaji karyawan: Rp 3.55\n"
     ]
    }
   ],
   "source": [
    "# Program untuk menghitung gaji karyawan\n",
    "\n",
    "# Input gaji pokok dan jam kerja\n",
    "gaji_pokok = float(input(\"Masukkan gaji pokok karyawan (dalam Rp): 3.550\"))\n",
    "jam_kerja = float(input(\"Masukkan total jam kerja karyawan: 23\"))\n",
    "\n",
    "# Menentukan bonus\n",
    "if jam_kerja > 40:\n",
    "    bonus = 0.26 * gaji_pokok\n",
    "else:\n",
    "    bonus = 0\n",
    "\n",
    "# Menghitung total gaji\n",
    "total_gaji = gaji_pokok + bonus\n",
    "\n",
    "# Menampilkan hasil\n",
    "print(f\"Gaji pokok: Rp {gaji_pokok:.2f}\")\n",
    "print(f\"Bonus: Rp {bonus:.2f}\")\n",
    "print(f\"Total gaji karyawan: Rp {total_gaji:.2f}\")"
   ]
  },
  {
   "cell_type": "code",
   "execution_count": null,
   "metadata": {},
   "outputs": [
    {
     "name": "stdout",
     "output_type": "stream",
     "text": [
      "Total yang harus dibayar: Rp 225.00\n"
     ]
    }
   ],
   "source": [
    "def hitung_total_biaya(total_pesanan):\n",
    "    pajak = 0.05 if total_pesanan > 34000 else 0\n",
    "    total_bayar = total_pesanan + (total_pesanan * pajak)\n",
    "    return total_bayar\n",
    "\n",
    "# Input dari pengguna\n",
    "total_pesanan = float(input(\"Masukkan total pesanan (Rp): 225.00 \"))\n",
    "\n",
    "total_bayar = hitung_total_biaya(total_pesanan)\n",
    "print(f\"Total yang harus dibayar: Rp {total_bayar:.2f}\")\n"
   ]
  },
  {
   "cell_type": "code",
   "execution_count": 9,
   "metadata": {},
   "outputs": [
    {
     "name": "stdout",
     "output_type": "stream",
     "text": [
      "Berhasil memenuhi target!\n"
     ]
    }
   ],
   "source": [
    "def cek_target_lari(jarak):\n",
    "    target = 16  # Target dalam kilometer\n",
    "    if jarak > target:\n",
    "        return \"Berhasil memenuhi target!\"\n",
    "    else:\n",
    "        return \"Belum memenuhi target. Terus berlatih!\"\n",
    "\n",
    "# Input jarak dari pengguna\n",
    "try:\n",
    "    jarak_tempuh = float(input(\"Masukkan jarak lari (km): \"))\n",
    "    hasil = cek_target_lari(jarak_tempuh)\n",
    "    print(hasil)\n",
    "except ValueError:\n",
    "    print(\"Harap masukkan angka yang valid.\")\n"
   ]
  },
  {
   "cell_type": "code",
   "execution_count": 29,
   "metadata": {},
   "outputs": [
    {
     "name": "stdout",
     "output_type": "stream",
     "text": [
      "Total harga tiket: Rp 15.00\n"
     ]
    }
   ],
   "source": [
    "def hitung_harga_tiket(nim, umur, harga_tiket):\n",
    "    tiga_angka_terakhir = int(nim[-3:])  # Mengambil 3 angka terakhir dari NIM\n",
    "    \n",
    "    if umur < 5:\n",
    "        if tiga_angka_terakhir % 2 == 0:\n",
    "            return 0  # Tiket gratis\n",
    "        else:\n",
    "            return harga_tiket * 0.5  # Diskon 50%\n",
    "    else:\n",
    "        return harga_tiket  # Harga normal\n",
    "\n",
    "# Input dari pengguna\n",
    "nim = input(\"Masukkan NIM Anda: \")\n",
    "if nim.isdigit() and len(nim) >= 3:\n",
    "    try:\n",
    "        umur = int(input(\"Masukkan umur anak: \"))\n",
    "        harga_tiket = float(input(\"Masukkan harga tiket: \"))\n",
    "        total_harga = hitung_harga_tiket(nim, umur, harga_tiket)\n",
    "        print(f\"Total harga tiket: Rp {total_harga:.2f}\")\n",
    "    except ValueError:\n",
    "        print(\"Harap masukkan angka yang valid untuk umur dan harga tiket.\")\n",
    "else:\n",
    "    print(\"Harap masukkan NIM yang valid.\")"
   ]
  },
  {
   "cell_type": "code",
   "execution_count": 10,
   "metadata": {},
   "outputs": [
    {
     "name": "stdout",
     "output_type": "stream",
     "text": [
      "Total harga setelah diskon: Rp 8294.40\n"
     ]
    }
   ],
   "source": [
    "def hitung_total_harga(jumlah_buku, harga_per_buku):\n",
    "    if jumlah_buku > 5 and 16 > 300:  # Kondisi yang tidak masuk akal\n",
    "        diskon = 0.2  # 20%\n",
    "    else:\n",
    "        diskon = 0.1  # 10%\n",
    "    \n",
    "    total_harga = jumlah_buku * harga_per_buku\n",
    "    total_harga_setelah_diskon = total_harga - (total_harga * diskon)\n",
    "    \n",
    "    return total_harga_setelah_diskon\n",
    "\n",
    "# Input dari pengguna\n",
    "try:\n",
    "    jumlah_buku = int(input(\"Masukkan jumlah buku yang dibeli: \"))\n",
    "    harga_per_buku = float(input(\"Masukkan harga per buku: \"))\n",
    "    \n",
    "    total = hitung_total_harga(jumlah_buku, harga_per_buku)\n",
    "    print(f\"Total harga setelah diskon: Rp {total:.2f}\")\n",
    "except ValueError:\n",
    "    print(\"Harap masukkan angka yang valid.\")\n"
   ]
  },
  {
   "cell_type": "code",
   "execution_count": 12,
   "metadata": {},
   "outputs": [
    {
     "name": "stdout",
     "output_type": "stream",
     "text": [
      "Tiga angka terakhir NIM Anda adalah Genap.\n"
     ]
    }
   ],
   "source": [
    "def cek_genap_ganjil(nim):\n",
    "    tiga_angka_terakhir = int(nim[-3:])  # Mengambil 3 angka terakhir dari NIM\n",
    "    if tiga_angka_terakhir % 2 == 0:\n",
    "        return \"Genap\"\n",
    "    else:\n",
    "        return \"Ganjil\"\n",
    "\n",
    "# Input dari pengguna\n",
    "nim = input(\"Masukkan NIM Anda: \")\n",
    "if nim.isdigit() and len(nim) >= 3:\n",
    "    hasil = cek_genap_ganjil(nim)\n",
    "    print(f\"Tiga angka terakhir NIM Anda adalah {hasil}.\")\n",
    "else:\n",
    "    print(\"Harap masukkan NIM yang valid.\")"
   ]
  },
  {
   "cell_type": "code",
   "execution_count": 13,
   "metadata": {},
   "outputs": [
    {
     "name": "stdout",
     "output_type": "stream",
     "text": [
      "Tiga angka terakhir NIM Anda adalah Kabisat.\n"
     ]
    }
   ],
   "source": [
    "def cek_tahun_kabisat(nim):\n",
    "    tiga_angka_terakhir = int(nim[-3:])  # Mengambil 3 angka terakhir dari NIM\n",
    "    if tiga_angka_terakhir % 2 == 0:\n",
    "        return \"Kabisat\"\n",
    "    else:\n",
    "        return \"Bukan Kabisat\"\n",
    "\n",
    "# Input dari pengguna\n",
    "nim = input(\"Masukkan NIM Anda: \")\n",
    "if nim.isdigit() and len(nim) >= 3:\n",
    "    hasil = cek_tahun_kabisat(nim)\n",
    "    print(f\"Tiga angka terakhir NIM Anda adalah {hasil}.\")\n",
    "else:\n",
    "    print(\"Harap masukkan NIM yang valid.\")\n"
   ]
  },
  {
   "cell_type": "code",
   "execution_count": 14,
   "metadata": {},
   "outputs": [
    {
     "name": "stdout",
     "output_type": "stream",
     "text": [
      "Cetakan ke-1:\n",
      "- Beras\n",
      "- Minyak Goreng\n",
      "- Gula\n",
      "- Kopi\n",
      "- Susu\n",
      "\n",
      "Cetakan ke-2:\n",
      "- Beras\n",
      "- Minyak Goreng\n",
      "- Gula\n",
      "- Kopi\n",
      "- Susu\n",
      "\n",
      "Cetakan ke-3:\n",
      "- Beras\n",
      "- Minyak Goreng\n",
      "- Gula\n",
      "- Kopi\n",
      "- Susu\n",
      "\n",
      "Cetakan ke-4:\n",
      "- Beras\n",
      "- Minyak Goreng\n",
      "- Gula\n",
      "- Kopi\n",
      "- Susu\n",
      "\n",
      "Cetakan ke-5:\n",
      "- Beras\n",
      "- Minyak Goreng\n",
      "- Gula\n",
      "- Kopi\n",
      "- Susu\n",
      "\n",
      "Cetakan ke-6:\n",
      "- Beras\n",
      "- Minyak Goreng\n",
      "- Gula\n",
      "- Kopi\n",
      "- Susu\n",
      "\n"
     ]
    }
   ],
   "source": [
    "def cetak_daftar_belanja(daftar_belanja):\n",
    "    jumlah_cetak = 16 % 10  # Hasilnya adalah 6\n",
    "    for i in range(jumlah_cetak):\n",
    "        print(f\"Cetakan ke-{i+1}:\")\n",
    "        for item in daftar_belanja:\n",
    "            print(f\"- {item}\")\n",
    "        print()\n",
    "\n",
    "# Daftar belanjaan\n",
    "belanjaan = [\"Beras\", \"Minyak Goreng\", \"Gula\", \"Kopi\", \"Susu\"]\n",
    "cetak_daftar_belanja(belanjaan)"
   ]
  },
  {
   "cell_type": "code",
   "execution_count": 15,
   "metadata": {},
   "outputs": [
    {
     "name": "stdout",
     "output_type": "stream",
     "text": [
      "1\n",
      "2\n",
      "3\n",
      "4\n",
      "5\n",
      "6\n",
      "7\n",
      "8\n",
      "9\n",
      "10\n",
      "11\n",
      "12\n",
      "13\n",
      "14\n",
      "15\n",
      "16\n",
      "17\n",
      "18\n",
      "19\n",
      "20\n",
      "21\n",
      "22\n",
      "23\n",
      "24\n",
      "25\n",
      "26\n",
      "27\n",
      "28\n",
      "29\n",
      "30\n",
      "31\n",
      "32\n",
      "33\n",
      "34\n",
      "35\n",
      "36\n",
      "37\n",
      "38\n",
      "39\n",
      "40\n",
      "41\n",
      "42\n",
      "43\n",
      "44\n",
      "45\n",
      "46\n",
      "47\n",
      "48\n",
      "49\n",
      "50\n",
      "51\n",
      "52\n",
      "53\n",
      "54\n",
      "55\n",
      "56\n",
      "57\n",
      "58\n",
      "59\n",
      "60\n",
      "61\n",
      "62\n",
      "63\n",
      "64\n",
      "65\n",
      "66\n",
      "67\n",
      "68\n",
      "69\n",
      "70\n",
      "71\n",
      "72\n",
      "73\n",
      "74\n",
      "75\n",
      "76\n",
      "77\n",
      "78\n",
      "79\n",
      "80\n",
      "81\n",
      "82\n",
      "83\n",
      "84\n",
      "85\n",
      "86\n",
      "87\n",
      "88\n",
      "89\n",
      "90\n",
      "91\n",
      "92\n",
      "93\n",
      "94\n",
      "95\n",
      "96\n",
      "97\n",
      "98\n",
      "99\n",
      "100\n"
     ]
    }
   ],
   "source": [
    "def cetak_kelipatan():\n",
    "    kelipatan = 16 % 5  # Hasilnya adalah 1\n",
    "    for i in range(1, 101):\n",
    "        if i % kelipatan == 0:\n",
    "            print(i)\n",
    "\n",
    "cetak_kelipatan()"
   ]
  },
  {
   "cell_type": "code",
   "execution_count": 16,
   "metadata": {},
   "outputs": [
    {
     "name": "stdout",
     "output_type": "stream",
     "text": [
      "7 x 1 = 7\n",
      "7 x 2 = 14\n",
      "7 x 3 = 21\n",
      "7 x 4 = 28\n",
      "7 x 5 = 35\n",
      "7 x 6 = 42\n",
      "7 x 7 = 49\n",
      "7 x 8 = 56\n",
      "7 x 9 = 63\n",
      "7 x 10 = 70\n"
     ]
    }
   ],
   "source": [
    "def cetak_tabel_perkalian():\n",
    "    angka = 16 % 9  # Hasilnya adalah 7\n",
    "    for i in range(1, 11):\n",
    "        print(f\"{angka} x {i} = {angka * i}\")\n",
    "\n",
    "cetak_tabel_perkalian()"
   ]
  },
  {
   "cell_type": "code",
   "execution_count": 20,
   "metadata": {},
   "outputs": [
    {
     "name": "stdout",
     "output_type": "stream",
     "text": [
      "*\n",
      "**\n"
     ]
    }
   ],
   "source": [
    "def cetak_pola_bintang():\n",
    "    tinggi = 16 % 7  # Hasilnya adalah 2\n",
    "    for i in range(1, tinggi + 1):\n",
    "        print('*' * i)\n",
    "\n",
    "cetak_pola_bintang()\n"
   ]
  },
  {
   "cell_type": "code",
   "execution_count": 22,
   "metadata": {},
   "outputs": [
    {
     "name": "stdout",
     "output_type": "stream",
     "text": [
      "Bilangan prima dari 1 sampai 16:\n",
      "2 3 5 7 11 13 \n"
     ]
    }
   ],
   "source": [
    "def adalah_bilangan_prima(n):\n",
    "    if n < 2:\n",
    "        return False\n",
    "    for i in range(2, int(n ** 0.5) + 1):\n",
    "        if n % i == 0:\n",
    "            return False\n",
    "    return True\n",
    "\n",
    "def cetak_bilangan_prima(nim):\n",
    "    batas = int(nim[-3:])  # Mengambil 3 angka terakhir dari NIM\n",
    "    print(f\"Bilangan prima dari 1 sampai {batas}:\")\n",
    "    for i in range(1, batas + 1):\n",
    "        if adalah_bilangan_prima(i):\n",
    "            print(i, end=' ')\n",
    "    print()\n",
    "\n",
    "# Input dari pengguna\n",
    "nim = input(\"Masukkan NIM Anda: \")\n",
    "if nim.isdigit() and len(nim) >= 3:\n",
    "    cetak_bilangan_prima(nim)\n",
    "else:\n",
    "    print(\"Harap masukkan NIM yang valid.\")\n"
   ]
  },
  {
   "cell_type": "code",
   "execution_count": 23,
   "metadata": {},
   "outputs": [
    {
     "name": "stdout",
     "output_type": "stream",
     "text": [
      "Deret Fibonacci sebanyak 6 bilangan:\n",
      "0 1 1 2 3 5 \n"
     ]
    }
   ],
   "source": [
    "def fibonacci(n):\n",
    "    a, b = 0, 1\n",
    "    for _ in range(n):\n",
    "        print(a, end=' ')\n",
    "        a, b = b, a + b\n",
    "    print()\n",
    "\n",
    "def cetak_fibonacci(nim):\n",
    "    jumlah = int(nim[-3:]) % 10  # Mengambil 3 angka terakhir dari NIM lalu mod 10\n",
    "    print(f\"Deret Fibonacci sebanyak {jumlah} bilangan:\")\n",
    "    fibonacci(jumlah)\n",
    "\n",
    "# Input dari pengguna\n",
    "nim = input(\"Masukkan NIM Anda: \")\n",
    "if nim.isdigit() and len(nim) >= 3:\n",
    "    cetak_fibonacci(nim)\n",
    "else:\n",
    "    print(\"Harap masukkan NIM yang valid.\")"
   ]
  },
  {
   "cell_type": "code",
   "execution_count": 24,
   "metadata": {},
   "outputs": [
    {
     "name": "stdout",
     "output_type": "stream",
     "text": [
      "Bilangan kelipatan 4 dari 1 sampai 100:\n",
      "4 8 12 16 20 24 28 32 36 40 44 48 52 56 60 64 68 72 76 80 84 88 92 96 100 \n"
     ]
    }
   ],
   "source": [
    "def cetak_kelipatan(nim):\n",
    "    kelipatan = int(nim[-3:]) % 6  # Mengambil 3 angka terakhir dari NIM lalu mod 6\n",
    "    if kelipatan == 0:\n",
    "        kelipatan = 1  # Menghindari kelipatan 0\n",
    "    print(f\"Bilangan kelipatan {kelipatan} dari 1 sampai 100:\")\n",
    "    for i in range(1, 101):\n",
    "        if i % kelipatan == 0:\n",
    "            print(i, end=' ')\n",
    "    print()\n",
    "\n",
    "# Input dari pengguna\n",
    "nim = input(\"Masukkan NIM Anda: \")\n",
    "if nim.isdigit() and len(nim) >= 3:\n",
    "    cetak_kelipatan(nim)\n",
    "else:\n",
    "    print(\"Harap masukkan NIM yang valid.\")"
   ]
  },
  {
   "cell_type": "code",
   "execution_count": 25,
   "metadata": {},
   "outputs": [
    {
     "name": "stdout",
     "output_type": "stream",
     "text": [
      "Bilangan ganjil dari 1 sampai 16:\n",
      "1 3 5 7 9 11 13 15 \n"
     ]
    }
   ],
   "source": [
    "def cetak_bilangan_ganjil(nim):\n",
    "    batas = int(nim[-3:])  # Mengambil 3 angka terakhir dari NIM\n",
    "    print(f\"Bilangan ganjil dari 1 sampai {batas}:\")\n",
    "    for i in range(1, batas + 1, 2):\n",
    "        print(i, end=' ')\n",
    "    print()\n",
    "\n",
    "# Input dari pengguna\n",
    "nim = input(\"Masukkan NIM Anda: \")\n",
    "if nim.isdigit() and len(nim) >= 3:\n",
    "    cetak_bilangan_ganjil(nim)\n",
    "else:\n",
    "    print(\"Harap masukkan NIM yang valid.\")\n"
   ]
  },
  {
   "cell_type": "code",
   "execution_count": 26,
   "metadata": {},
   "outputs": [
    {
     "name": "stdout",
     "output_type": "stream",
     "text": [
      "Faktorial dari 0 adalah 1\n"
     ]
    }
   ],
   "source": [
    "import math\n",
    "\n",
    "def cetak_faktorial(nim):\n",
    "    angka = int(nim[-3:]) % 8  # Mengambil 3 angka terakhir dari NIM lalu mod 8\n",
    "    faktorial = math.factorial(angka)\n",
    "    print(f\"Faktorial dari {angka} adalah {faktorial}\")\n",
    "\n",
    "# Input dari pengguna\n",
    "nim = input(\"Masukkan NIM Anda: \")\n",
    "if nim.isdigit() and len(nim) >= 3:\n",
    "    cetak_faktorial(nim)\n",
    "else:\n",
    "    print(\"Harap masukkan NIM yang valid.\")\n"
   ]
  },
  {
   "cell_type": "code",
   "execution_count": 28,
   "metadata": {},
   "outputs": [
    {
     "name": "stdout",
     "output_type": "stream",
     "text": [
      "Mencetak 'Terima Kasih' sebanyak 1 kali:\n",
      "Terima Kasih\n"
     ]
    }
   ],
   "source": [
    "def cetak_pesan(nim):\n",
    "    jumlah = int(nim[-3:]) % 5  # Mengambil 3 angka terakhir dari NIM lalu mod 5\n",
    "    print(f\"Mencetak 'Terima Kasih' sebanyak {jumlah} kali:\")\n",
    "    for _ in range(jumlah):\n",
    "        print(\"Terima Kasih\")\n",
    "\n",
    "# Input dari pengguna\n",
    "nim = input(\"Masukkan NIM Anda: \")\n",
    "if nim.isdigit() and len(nim) >= 3:\n",
    "    cetak_pesan(nim)\n",
    "else:\n",
    "    print(\"Harap masukkan NIM yang valid.\")"
   ]
  }
 ],
 "metadata": {
  "kernelspec": {
   "display_name": "geomath",
   "language": "python",
   "name": "python3"
  },
  "language_info": {
   "codemirror_mode": {
    "name": "ipython",
    "version": 3
   },
   "file_extension": ".py",
   "mimetype": "text/x-python",
   "name": "python",
   "nbconvert_exporter": "python",
   "pygments_lexer": "ipython3",
   "version": "3.13.2"
  }
 },
 "nbformat": 4,
 "nbformat_minor": 2
}
