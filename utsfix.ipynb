{
 "cells": [
  {
   "cell_type": "markdown",
   "id": "14fbdfc2",
   "metadata": {},
   "source": [
    "# **Binomial Theorem and Sequences**\n"
   ]
  },
  {
   "cell_type": "markdown",
   "id": "9a3a8420",
   "metadata": {},
   "source": [
    "---"
   ]
  },
  {
   "cell_type": "markdown",
   "id": "222737f6",
   "metadata": {},
   "source": [
    "# Binomial Theorem \n"
   ]
  },
  {
   "cell_type": "markdown",
   "id": "29b38334",
   "metadata": {},
   "source": [
    "---"
   ]
  },
  {
   "cell_type": "markdown",
   "id": "52f8f9bd",
   "metadata": {},
   "source": [
    "**Konsep Dasar**: Teorema binomial adalah rumus yang digunakan untuk menguraikan bentuk pangkat dari penjumlahan dua suku seperti, $(a+b)^n$ menjadi suatu deret suku-suku yang melibatkan koefisien binomial. \n"
   ]
  },
  {
   "cell_type": "markdown",
   "id": "7d8bde26",
   "metadata": {},
   "source": [
    "**Contoh Konsep**"
   ]
  },
  {
   "cell_type": "markdown",
   "id": "691b335f",
   "metadata": {},
   "source": [
    "$(a+b)^0 = 1$  \n",
    "$(a+b)^1 = a+b$  \n",
    "$(a+b)^2 = a^2+2ab+b^2$  "
   ]
  },
  {
   "cell_type": "markdown",
   "id": "92087626",
   "metadata": {},
   "source": [
    "**Faktorial**\n",
    "\n",
    "faktorial adalah konsep matematika yang digunakan untuk menghitung hasil perkalian semua bilangan bulat positif dari 1 hingga suatu bilangan tertentu.\n",
    " $n!=n×(n−1)×(n−2)×⋯×2×1$  \n",
    " contoh:  \n",
    "$5!=5×4×3×2×1=120$    \n",
    "$3!=3×2×1=6$  \n",
    "catatan:  \n",
    "$0!=1$                                                          "
   ]
  },
  {
   "cell_type": "markdown",
   "id": "773f05fb",
   "metadata": {},
   "source": [
    "**Teorema Binomial dan Segitiga Pascal**"
   ]
  },
  {
   "cell_type": "markdown",
   "id": "9c5a6d9e",
   "metadata": {},
   "source": [
    "*Teorema binomial* menjelaskan cara mengembangkan bentuk $(a+b)^n$ menjadi penjumlahan suku-suku.  \n",
    "Rumus: $$(a + b)^n = \\sum_{k=0}^n \\binom{n}{k} a^{n-k} b^k!....(1)$$ \n",
    "rumus kombinasi: $$\\frac {n!} {(n-k)! k!}....(2)$$\n",
    "contoh:  \n",
    "```math\n",
    "(a+b)3=\\binom30 a^3b^0+\\binom31 a^2b^1+ \\binom32 a^1b^2+\\binom33 a^0b^3\\\\  \n",
    " =1a^3+3a^2b+3ab^2+1b^3"
   ]
  },
  {
   "cell_type": "markdown",
   "id": "6192f2ea",
   "metadata": {},
   "source": [
    "**Segitiga Pascal** adalah susunan bilangan yang membantu menentukan koefisien binomial tanpa menghitung faktorial.  \n",
    "Setiap angka adalah jumlah dua angka di atasnya.\n",
    "\n",
    "```\n",
    "        1\n",
    "       1 1\n",
    "      1 2 1\n",
    "     1 3 3 1\n",
    "    1 4 6 4 1\n",
    "   1 5 10 10 5 1\n",
    "```"
   ]
  },
  {
   "cell_type": "markdown",
   "id": "add0dd04",
   "metadata": {},
   "source": [
    "# Sequences (Barisan)\n"
   ]
  },
  {
   "cell_type": "markdown",
   "id": "9b41d827",
   "metadata": {},
   "source": [
    "**Barisan** atau **barisan** merupakan susunan bilangan yang tersusun secara berurutan sesuai aturan tertentu. Barisan digunakan untuk menggambarkan pola perubahan suatu variabel dalam deret waktu atau posisi, yang sangat umum ditemui dalam pengamatan geosains.\n",
    "\n",
    "**A. Jenis-jenis Barisan**\n",
    "\n",
    "**1. Barisan Aritmatika**\n",
    "    Yaitu barisan bilangan dimana beda antar suku-suku berurutan selalu tetap.\n",
    "    Contoh: $2,5,8,11,14$     (beda = 3)\n",
    "\n",
    "**2. Barisan Geometri**\n",
    "    Yaitu barisan bilangan di mana rasio antar suku-suku berurutan tetap.\n",
    "    Contoh: $2,4,8,16,32$     (rasio = 2)\n",
    "\n",
    "**B. Fibonacci Sequence**  \n",
    "    Barisan Finonacci, bilangan setelahnya itu ditambah dengan 2 bilangan sebelumnya  \n",
    "    contoh: $0, 1, 1, 2, 3, 5, 8...$\n"
   ]
  },
  {
   "cell_type": "markdown",
   "id": "1c8bbd15",
   "metadata": {},
   "source": [
    "**3. Jumlah suatu deret (Sum of a Series)**\n",
    "Konsep dari sum of a series ini adalah untuk menghitung jumlah suatu deret yang divergen (meningkat terus atau menurun terus)\n",
    "\n",
    "- Deret Aritmatika:\n",
    "\n",
    "```math\n",
    "\n",
    "S_n =\\frac{n}{2} (a + 1)....(3)"
   ]
  },
  {
   "cell_type": "markdown",
   "id": "cb5bace8",
   "metadata": {},
   "source": [
    "atau\n",
    "```math\n",
    "\n",
    "S_n =\\frac{n}{2}(2a + (n-1)d)....(4)"
   ]
  },
  {
   "cell_type": "markdown",
   "id": "349e84e8",
   "metadata": {},
   "source": [
    "contoh:  \n",
    "Hitung jumlah 10 suku pertama dari deret 5 + 9 + 13 +...  \n",
    "jawab:  \n",
    "$S_{10}= \\frac{10}{2}[2×5+(10−1)×4]=5×(10+36)=230$"
   ]
  },
  {
   "cell_type": "markdown",
   "id": "96ec77dc",
   "metadata": {},
   "source": [
    "- Deret Geometri:  \n",
    "untuk $r>1$\n",
    "```math\n",
    "S_n = a\\frac{(r^n - 1)}{r-1}....(5)\n"
   ]
  },
  {
   "cell_type": "markdown",
   "id": "39b45f9c",
   "metadata": {},
   "source": [
    "untuk $r<1$\n",
    "```math\n",
    "S_n = a\\frac{(1-r^n)}{1-r}....(6)\n"
   ]
  },
  {
   "cell_type": "markdown",
   "id": "82b63f62",
   "metadata": {},
   "source": [
    "contoh:  \n",
    "Diketahui deret geometri dengan suku pertama **a = 5** dan rasio **r = 3**.  \n",
    "Hitunglah jumlah 5 suku pertama dari deret ini $5, 15, 45, 135, 405$\n",
    "\n",
    "\n",
    "$\n",
    "S_n = a \\frac{(r^n - 1)}{r - 1}\n",
    "$\n",
    "\n",
    "$\n",
    "S_5 = 5 \\frac{(3^5 - 1)}{3 - 1}\n",
    "$\n",
    "\n",
    "$\n",
    "S_5 = 5 \\frac{(243 - 1)}{2}\n",
    "$\n",
    "\n",
    "$\n",
    "S_5 = 5 \\frac{242}{2}\n",
    "$\n",
    "\n",
    "$\n",
    "S_5 = 5 \\times 121 = 605\n",
    "$\n"
   ]
  },
  {
   "cell_type": "markdown",
   "id": "2e944955",
   "metadata": {},
   "source": [
    "**4. Deret Tak Hingga (Infinite Series)**\n",
    "\n",
    "Pada deret geometri tak hingga dengan rasio |r| < 1, jumlah total deret dihitung dengan:\n",
    "\n",
    "```math\n",
    "\n",
    "S =\\frac{a}{1-r}....(7)"
   ]
  },
  {
   "cell_type": "markdown",
   "id": "7f92612a",
   "metadata": {},
   "source": [
    "**Contoh Soal**"
   ]
  },
  {
   "cell_type": "markdown",
   "id": "d91ee172",
   "metadata": {},
   "source": [
    "contoh:  \n",
    "Hitung jumlah tak hingga dari deret: 16 + 8 + 4 + 2 + ...  \n",
    "jawab:   \n",
    "$S_\\infty= \\frac {16}{1-0.5}=32$"
   ]
  },
  {
   "cell_type": "markdown",
   "id": "30bc4305",
   "metadata": {},
   "source": [
    "# Eksopensial dan Logaritma"
   ]
  },
  {
   "cell_type": "markdown",
   "id": "260a8013",
   "metadata": {},
   "source": [
    "- Eksponen  \n",
    "Eksponen atau perpangkatan adalah berapa kali suatu bilangan (basis) dikalikan dengan dirinya sendiri  \n",
    "$$a^n...(8)  $$ \n",
    "contoh:  \n",
    "$2^4=2.2.2.2=16$  \n",
    "- sifat-sifat eksponen:  \n",
    "1. $a^m.a^n=a^{m+n}$ \n",
    "2. $\\frac {a^m}{a^n}=a^{m-n}$\n",
    "3. $(a^m)^n=a^{m.n}$  \n",
    "4. $a^0=1$ (untuk $a≠0$ )  \n",
    "5. $a^{-n}=\\frac 1 {a^n}$"
   ]
  },
  {
   "cell_type": "markdown",
   "id": "1771337d",
   "metadata": {},
   "source": [
    "- Logaritma:  \n",
    "jika $$a^c=b....(9)$$  \n",
    "maka $$^alogb=c....(10)$$ \n",
    "contoh:  \n",
    "$^2log8=3$"
   ]
  },
  {
   "cell_type": "markdown",
   "id": "a35fd275",
   "metadata": {},
   "source": [
    "**Soal 1**\n",
    "\n",
    "Tentukan nilai x dari \n",
    "```math\n",
    "^2log(x) = 5"
   ]
  },
  {
   "cell_type": "code",
   "execution_count": 1,
   "id": "f1575ee2",
   "metadata": {},
   "outputs": [
    {
     "data": {
      "text/plain": [
       "[32]"
      ]
     },
     "execution_count": 1,
     "metadata": {},
     "output_type": "execute_result"
    }
   ],
   "source": [
    "from sympy import symbols, log, solve\n",
    "x = symbols('x')\n",
    "soal_1 = log(x, 2) - 5  \n",
    "jawaban_1 = solve(soal_1, x)\n",
    "jawaban_1"
   ]
  },
  {
   "cell_type": "markdown",
   "id": "ff6e77ad",
   "metadata": {},
   "source": [
    "**soal 2**  \n",
    "Sebuah deret aritmetika memiliki suku pertama ( a = 7 ) dan beda antar suku ( d = 3 ).\n",
    "Hitung jumlah 10 suku pertama\n"
   ]
  },
  {
   "cell_type": "code",
   "execution_count": 2,
   "id": "c4e4d511",
   "metadata": {},
   "outputs": [
    {
     "data": {
      "text/plain": [
       "[205]"
      ]
     },
     "execution_count": 2,
     "metadata": {},
     "output_type": "execute_result"
    }
   ],
   "source": [
    "from sympy import symbols, solve\n",
    "\n",
    "S_n, n, a, d = symbols('S_n n a d')\n",
    "nilai_n = 10  \n",
    "nilai_a = 7  \n",
    "nilai_d = 3 \n",
    "rumus = S_n - (n / 2) * (2 * a + (n - 1) * d)\n",
    "soal_1 = rumus.subs({n: nilai_n, a: nilai_a, d: nilai_d})\n",
    "jawaban = solve(soal_1, S_n)\n",
    "jawaban"
   ]
  },
  {
   "cell_type": "markdown",
   "id": "a94d38f1",
   "metadata": {},
   "source": [
    "## TRIGONOMETRY"
   ]
  },
  {
   "cell_type": "markdown",
   "id": "596e3d45",
   "metadata": {},
   "source": [
    "## 1. Pengertian Trigonometri\n",
    "Trigonometri adalah cabang matematika yang membahas tentang pengukuran sisi dan sudut segitiga, serta hubungan antara sisi dan sudut tersebut. Ada banyak pengaplikasian trigonometri untuk memudahkan kegiatan manusia contohnya Mengukur tinggi bangunan tanpa harus memanjat, Menentukan jarak yang sulit diukur langsung. Tidak hanya itu pengaplikasian trigonometri juga digunakan di bidang astronomi, arsitektur, geofisika, dll.. Oleh karena itu mengapa sangat penting untuk kita memahami mengenai materi trigonometri ini..\n",
    "\n",
    "## 2. Fungsi Trigonometri Dasar\n",
    "Misalkan kita punya segitiga siku-siku dengan sudut $\\theta$, maka:\n",
    "- $\\sin \\theta = \\dfrac{\\text{sisi depan}}{\\text{hipotenusa}}$\n",
    "- $\\cos \\theta = \\dfrac{\\text{sisi samping}}{\\text{hipotenusa}}$\n",
    "- $\\tan \\theta = \\dfrac{\\text{sisi depan}}{\\text{sisi samping}}$\n",
    "\n"
   ]
  },
  {
   "cell_type": "markdown",
   "id": "d1190fa2",
   "metadata": {},
   "source": [
    "Dengan mengacu pada Gambar berikut, sisi yang berhadapan dengan sudut siku-siku (yaitu sisi b) disebut hipotenusa. Teorema Pythagoras menyatakan"
   ]
  },
  {
   "cell_type": "code",
   "execution_count": 1,
   "id": "9a40010d",
   "metadata": {},
   "outputs": [
    {
     "data": {
      "image/png": "[encoded data removed]",
      "text/plain": [
       "<Figure size 640x480 with 1 Axes>"
      ]
     },
     "metadata": {},
     "output_type": "display_data"
    }
   ],
   "source": [
    "from sympy import Point\n",
    "from sympy.geometry import Segment, Triangle\n",
    "import matplotlib.pyplot as plt\n",
    "\n",
    "A = Point(2, 4)\n",
    "B = Point(2, 1)\n",
    "C = Point(6, 1)\n",
    "\n",
    "AB = Segment(A, B)\n",
    "BC = Segment(B, C)\n",
    "AC = Segment(A, C)\n",
    "\n",
    "fig, ax = plt.subplots()\n",
    "\n",
    "ax.plot([A.x, B.x], [A.y, B.y], 'k')\n",
    "ax.plot([B.x, C.x], [B.y, C.y], 'k')\n",
    "ax.plot([A.x, C.x], [A.y, C.y], 'k')\n",
    "\n",
    "ax.text(A.x, A.y + 0.2, 'A', ha='center')\n",
    "ax.text(B.x - 0.2, B.y - 0.2, 'B', ha='right')\n",
    "ax.text(C.x, C.y - 0.2, 'C', ha='center')\n",
    "\n",
    "ax.text((A.x + B.x)/2 - 0.2, (A.y + B.y)/2, 'c', ha='right')\n",
    "ax.text((B.x + C.x)/2, B.y - 0.2, 'a', ha='center')\n",
    "ax.text((A.x + C.x)/2, (A.y + C.y)/2 + 0.2, 'b', ha='center')\n",
    "\n",
    "ax.plot([B.x, B.x + 0.3], [B.y, B.y], 'k')\n",
    "ax.plot([B.x + 0.3, B.x + 0.3], [B.y, B.y + 0.3], 'k')\n",
    "\n",
    "ax.set_aspect('equal')\n",
    "ax.axis('off')\n",
    "plt.title('Segitiga Siku-siku ABC')\n",
    "plt.show()\n"
   ]
  },
  {
   "cell_type": "markdown",
   "id": "69624db9",
   "metadata": {},
   "source": [
    "## 3. Identitas Trigonometri Penting\n",
    "$$\n",
    "\\sin^2 \\theta + \\cos^2 \\theta = 1\n",
    "$$\n",
    "$$\n",
    "1 + \\tan^2 \\theta = \\sec^2 \\theta\n",
    "$$\n",
    "$$\n",
    "1 + \\cot^2 \\theta = \\csc^2 \\theta\n",
    "$$"
   ]
  },
  {
   "cell_type": "markdown",
   "id": "53a6eb91",
   "metadata": {},
   "source": [
    "# 4. Sudut Istimewa\n",
    "Nilai trigonometri untuk sudut: $0^\\circ, 30^\\circ, 45^\\circ, 60^\\circ, 90^\\circ$\n",
    "\n",
    "| Sudut | $\\sin$ | $\\cos$ | $\\tan$ |\n",
    "|-------|--------|--------|--------|\n",
    "| $0^\\circ$  | 0      | 1      | 0      |\n",
    "| $30^\\circ$ | $\\frac{1}{2}$ | $\\frac{\\sqrt{3}}{2}$ | $\\frac{1}{\\sqrt{3}}$ |\n",
    "| $45^\\circ$ | $\\frac{\\sqrt{2}}{2}$ | $\\frac{\\sqrt{2}}{2}$ | 1 |\n",
    "| $60^\\circ$ | $\\frac{\\sqrt{3}}{2}$ | $\\frac{1}{2}$ | $\\sqrt{3}$ |\n",
    "| $90^\\circ$ | 1 | 0 | tidak terdefinisi |\n"
   ]
  },
  {
   "cell_type": "markdown",
   "id": "b064751c",
   "metadata": {},
   "source": [
    "Titik A terletak pada koordinat (2, 3) dan titik B pada koordinat (8, 7). Tentukan (a) jarak AB, (b) gradien garis lurus AB, dan (c) sudut yang dibentuk AB terhadap garis horizontal."
   ]
  },
  {
   "cell_type": "code",
   "execution_count": 2,
   "id": "9e772391",
   "metadata": {},
   "outputs": [
    {
     "name": "stdout",
     "output_type": "stream",
     "text": [
      "Jarak AB = √(6² + 4²) = 7.211\n",
      "Gradien AB = 4/6 = 0.6666666666666666\n",
      "Sudut AB terhadap horizontal = 33.69 derajat\n"
     ]
    }
   ],
   "source": [
    "from sympy import symbols, sqrt, atan, deg\n",
    "\n",
    "x1, y1 = 2, 3\n",
    "x2, y2 = 8, 7\n",
    "\n",
    "dx = x2 - x1  # AC\n",
    "dy = y2 - y1  # BC\n",
    "\n",
    "# (a) Jarak AB\n",
    "AB = sqrt(dx**2 + dy**2)\n",
    "AB_val = AB.evalf()\n",
    "\n",
    "# (b) Gradien garis AB\n",
    "gradient = dy / dx\n",
    "\n",
    "# (c) Sudut yang dibentuk dengan horizontal\n",
    "angle_rad = atan(gradient)  # dalam radian\n",
    "angle_deg = deg(angle_rad)  # konversi ke derajat\n",
    "\n",
    "# Cetak hasil\n",
    "print(f\"Jarak AB = √({dx}² + {dy}²) = {AB_val:.3f}\")\n",
    "print(f\"Gradien AB = {dy}/{dx} = {gradient}\")\n",
    "print(f\"Sudut AB terhadap horizontal = {angle_deg:.2f} derajat\")\n"
   ]
  },
  {
   "cell_type": "markdown",
   "id": "896293da",
   "metadata": {},
   "source": [
    "# Bab 3: Bilangan Kompleks (Complex Numbers)\n",
    " \n",
    " bilangan kompleks adalah jenis bilangan yang terdiri dari dua bagian yaitu:\n",
    "\n",
    "- **Bagian real**, misalnya: $2$, $-3$, $\\sqrt{5}$, dll.\n",
    "- **Bagian imajiner**, yaitu kelipatan dari satuan imajiner $i$, dengan definisi:\n",
    "\n",
    "$$\n",
    "i = \\sqrt{-1} \\quad \\text{sehingga} \\quad i^2 = -1 \\tag{3.1}\n",
    "$$ \n",
    "\n",
    "## Bentuk Umum\n",
    "\n",
    "Bilangan kompleks ditulis sebagai:\n",
    "\n",
    "$$\n",
    "z = x + iy \\tag{3.2}\n",
    "$$\n",
    "\n",
    "dengan:\n",
    "- $x$ = bagian real  \n",
    "- $y$ = bagian imajiner  \n",
    "- $i$ = unit imajiner ($\\sqrt{-1}$)\n",
    "\n",
    "\n",
    "$$\n",
    "z₁ · z₂ = (x₁x₂ − y₁y₂) + i(x₁y₂ + x₂y₁) \\tag{3.3}\n",
    "$$\n",
    "\n",
    "**Pembagian:**## 3.1 Bilangan Kompleks (Complex Numbers)\n",
    "\n",
    "### 3.1.1 Bilangan Imajiner (Imaginary Numbers)\n",
    "\n",
    "Bilangan imajiner adalah bilangan yang melibatkan satuan imajiner **i**, di mana:\n",
    "\n",
    "\n",
    "$$\n",
    "i = \\sqrt{-1} \\quad \\text{sehingga} \\quad i^2 = -1 \\tag{3.4}\n",
    "$$\n",
    "\n",
    "Bilangan kompleks dituliskan dalam bentuk kartesius sebagai:\n",
    "\n",
    "$$\n",
    "z = x + iy \\tag{3.5}\n",
    "$$\n",
    "\n",
    "\n",
    "di mana *x* adalah bagian real dan *y* bagian imajiner.\n",
    "\n",
    "#### Operasi Dasar\n",
    "\n",
    "- **Penjumlahan dan pengurangan** dilakukan dengan menjumlahkan atau mengurangkan bagian real dan imajiner.\n",
    "$$(a+bi) + (c+di) = (a+c) + (b+d)i \\tag{3.1}$$ \n",
    "- **Perkalian:**\n",
    "\n",
    "$$\n",
    "z₁ = x₁ + iy₁, z₂ = x₂ + iy₂  \\tag{3.3}\n",
    "$$\n",
    "\n",
    "$$\n",
    "z₁ · z₂ = (x₁x₂ − y₁y₂) + i(x₁y₂ + x₂y₁) \\tag{3.4}\n",
    "$$\n",
    "\n",
    "- **Pembagian:**\n",
    "$$\n",
    "z₁ / z₂ = [(x₁ + iy₁)(x₂ − iy₂)] / (x₂² + y₂²) \\tag{3.5}\n",
    "$$\n",
    "\n",
    "#### Nilai Mutlak dan Konjugat\n",
    "- **Nilai Mutlak**:\n",
    "\n",
    "$$ \n",
    "|z| = √(x² + y²) \\tag{3.6}\n",
    "$$\n",
    "- **Konjugat kompleks**:\n",
    "$$ \n",
    "z̄ = x − iy \\tag{3.7}\n",
    "$$\n",
    "\n",
    "Diketahui $z1 = -2i$ dan $z2 = -3 - i$. Tentukan hasil $\\left| z1 \\right|$ dan $\\left| z2 \\right|$\n",
    "\n",
    "**Jawab:**\n",
    "\n",
    "a) Modulus bilangan kompleks,\n",
    "$z1 = -2i = 0 - 2i$\n",
    "\n",
    "- Bagian real = Re(z) = x = 0\n",
    "- Bagian imajiner = Im(z) = y = -2\n",
    "\n",
    "Jadi, $\\left| z1 \\right|$ = $\\sqrt{x^{2} + y^{2}}$\n",
    "\n",
    "$= \\sqrt{(0^{2}) + (-2^{2})}$\n",
    "\n",
    "$= \\sqrt{0 + 4}$\n",
    "\n",
    "$= \\sqrt{4}$\n",
    "\n",
    "$\\left| z1 \\right| = 2$\n",
    "\n",
    "b) $z2 + -3 +i$\n",
    "\n",
    "- Bagian real = Re(z) = x = -3\n",
    "- Bagian imajiner = Im(z) = y = 1\n",
    "\n",
    "Jadi, $\\left| z2 \\right| = \\sqrt{x^{2} + y^{2}}$\n",
    "\n",
    "$= \\sqrt{(-3^{2}) + (1^{2})}$\n",
    "\n",
    "$= \\sqrt{9 + 1}$\n",
    "\n",
    "$\\left| z2 \\right| = \\sqrt{10}$"
   ]
  },
  {
   "cell_type": "markdown",
   "id": "e9dbcf90",
   "metadata": {},
   "source": [
    "**Pembagian:**## 3.1 Bilangan Kompleks (Complex Numbers)\n",
    "\n",
    "### 3.1.1 Bilangan Imajiner (Imaginary Numbers)\n",
    "\n",
    "Bilangan imajiner adalah bilangan yang melibatkan satuan imajiner **i**, di mana:\n",
    "\n",
    "\n",
    "$$\n",
    "i = \\sqrt{-1} \\quad \\text{sehingga} \\quad i^2 = -1 \\tag{3.4}\n",
    "$$\n",
    "\n",
    "Bilangan kompleks dituliskan dalam bentuk kartesius sebagai:\n",
    "\n",
    "$$\n",
    "z = x + iy \\tag{3.5}\n",
    "$$\n",
    "\n",
    "\n",
    "di mana *x* adalah bagian real dan *y* bagian imajiner.\n",
    "\n",
    "#### Operasi Dasar\n",
    "\n",
    "- **Penjumlahan dan pengurangan** dilakukan dengan menjumlahkan atau mengurangkan bagian real dan imajiner.\n",
    "- **Perkalian:**"
   ]
  },
  {
   "cell_type": "markdown",
   "id": "6df967ba",
   "metadata": {},
   "source": [
    "$$\n",
    "z₁ = x₁ + iy₁, z₂ = x₂ + iy₂  \\tag{3.3}\n",
    "$$\n",
    "\n",
    "$$\n",
    "z₁ · z₂ = (x₁x₂ − y₁y₂) + i(x₁y₂ + x₂y₁) \\tag{3.4}\n",
    "$$\n",
    "\n",
    "- **Pembagian:**\n",
    "$$\n",
    "z₁ / z₂ = [(x₁ + iy₁)(x₂ − iy₂)] / (x₂² + y₂²) \\tag{3.5}\n",
    "$$\n",
    "\n",
    "#### Modulus dan Konjugat\n",
    "\n",
    "- **Modulus**:\n",
    "\n",
    "$$ \n",
    "|z| = √(x² + y²) \\tag{3.6}\n",
    "$$\n",
    "- **Konjugat kompleks**:\n",
    "$$ \n",
    "z̄ = x − iy \\tag{3.7}\n",
    "$$\n",
    "\n",
    "### 3.1.2 Bentuk Polar dan Eksponensial (Polar Form)\n",
    "Bilangan kompleks juga dapat ditulis dalam bentuk polar menggunakan panjang (modulus) dan sudut (argumen):\n",
    "\n",
    "$$\n",
    "z = r(cosθ + i sinθ) \\tag{3.8}\n",
    "$$\n",
    "dengan:\n",
    "$$\n",
    "r = |z| = √(x² + y²),   \\tag{3.9}\n",
    "$$\n",
    "\n",
    "$$\n",
    "θ = arg(z) = tan⁻¹(y/x) \\tag{3.10}\n",
    "$$\n",
    "\n",
    "Menggunakan **Rumus Euler**:\n",
    "\n",
    "$$ \n",
    "z = re^(iθ) \\tag{3.11}\n",
    "$$\n",
    "#### Operasi dalam Bentuk Polar\n",
    "\n",
    "- **Perkalian**:\n",
    "\n",
    "$$\n",
    "z₁ · z₂ = r₁r₂ · e^(i(θ₁ + θ₂)) \\tag{3.12}\n",
    "$$\n",
    " **Pembagian**:\n",
    "\n",
    "$$ \n",
    "z₁ / z₂ = (r₁ / r₂) · e^(i(θ₁ − θ₂)) \\tag{3.13}\n",
    "$$\n",
    "\n",
    "#### Pangkat dan Akar (Teorema De Moivre)\n",
    "\n",
    "- **Pangkat**:\n",
    "\n",
    "$$\n",
    "z^n = \\left(re^{i\\theta}\\right)^n = r^n \\cdot e^{in\\theta} \\tag{3.14}\n",
    "$$\n",
    "\n",
    "maka untuk pangkat bulat \\( n \\), berlaku:\n",
    "\n",
    "$$\n",
    "z^n = \\left(re^{i\\theta}\\right)^n = r^n e^{in\\theta}  \\tag{3.15}\n",
    "$$\n",
    "\n",
    "- **Akar-n dari z**:\n",
    "\n",
    "$$\n",
    "z^{1/n} = r^{1/n} \\cdot e^{i\\frac{\\theta + 2k\\pi}{n}}, \\quad \\text{untuk } k = 0, 1, \\dots, n-1 \\tag{3.16}\n",
    "$$\n",
    " **Pembagian**:\n",
    "\n",
    "$$ \n",
    "z₁ / z₂ = (r₁ / r₂) · e^(i(θ₁ − θ₂)) \\tag{3.13}\n",
    "$$\n",
    "\n",
    "#### Pangkat dan Akar (Teorema De Moivre)\n",
    "\n",
    "- **Pangkat**:\n",
    "\n",
    "$$\n",
    "z^n = \\left(re^{i\\theta}\\right)^n = r^n \\cdot e^{in\\theta} \\tag{3.14}\n",
    "$$\n",
    "\n",
    "maka untuk pangkat bulat \\( n \\), berlaku:\n",
    "\n",
    "$$\n",
    "z^n = \\left(re^{i\\theta}\\right)^n = r^n e^{in\\theta}  \\tag{3.15}\n",
    "$$\n",
    "\n",
    "- **Akar-n dari z**:\n",
    "\n",
    "$$\n",
    "z^{1/n} = r^{1/n} \\cdot e^{i\\frac{\\theta + 2k\\pi}{n}}, \\quad \\text{untuk } k = 0, 1, \\dots, n-1 \\tag{3.16}\n",
    "$$"
   ]
  },
  {
   "cell_type": "markdown",
   "id": "cad1cf27",
   "metadata": {},
   "source": [
    "# contoh soal"
   ]
  },
  {
   "cell_type": "markdown",
   "id": "49955a99",
   "metadata": {},
   "source": [
    "no. 1"
   ]
  },
  {
   "cell_type": "markdown",
   "id": "9343e90f",
   "metadata": {},
   "source": [
    "**Diketahui:**\n",
    "\n",
    " $z = 2 + j \\quad \\text{dan} \\quad w = 3 - j$\n",
    "\n",
    "Hitung:\n",
    "\n",
    "1. $4z + w$\n",
    "2. $3z - 2w$\n",
    "3. $j(2w - 3z)$"
   ]
  },
  {
   "cell_type": "code",
   "execution_count": 1,
   "id": "b4a904cf",
   "metadata": {},
   "outputs": [
    {
     "name": "stdout",
     "output_type": "stream",
     "text": [
      "|z1| = 2\n",
      "|z2| = sqrt(10)\n"
     ]
    }
   ],
   "source": [
    "import sympy\n",
    "from sympy import I, sqrt, re, im\n",
    "\n",
    "z1 = -2*I\n",
    "z2 = -3 - I\n",
    "\n",
    "def modulus(z):\n",
    "    return sqrt(re(z)**2 + im(z)**2)\n",
    "\n",
    "mod_z1 = modulus(z1)\n",
    "mod_z2 = modulus(z2)\n",
    "\n",
    "print(\"|z1| =\", mod_z1)\n",
    "print(\"|z2| =\", mod_z2)\n"
   ]
  },
  {
   "cell_type": "markdown",
   "id": "5505c3bf",
   "metadata": {},
   "source": [
    "# Differentation"
   ]
  },
  {
   "cell_type": "markdown",
   "id": "1a743d82",
   "metadata": {},
   "source": [
    "1. Konsep Differentiation  \n",
    "Differentiation (turunan) adalah salah satu konsep fundamental dalam kalkulus yang digunakan untuk menghitung laju perubahan suatu fungsi. Secara matematis, turunan dari fungsi Fungsi \\( f(x) \\) pada titik tertentu \\( x \\) didefinisikan sebagai:\n",
    "\n",
    "$$\n",
    "f'(x) = \\lim_{h \\to 0} \\frac{f(x+h) - f(x)}{h}\n",
    "$$\n",
    "\n",
    "Aturan Dasar Differentiation:  \n",
    "Turunan Konstanta:\n",
    "$$\n",
    "\\frac{d}{dx}[c] = 0\n",
    "$$\n",
    "\n",
    "​(di mana c adalah konstanta)\n",
    "\n",
    "Turunan Fungsi Linear:\n",
    "$$\n",
    "\\frac{d}{dx}[ax + b] = a\n",
    "$$\n",
    "\n",
    "Aturan Pangkat (Power Rule):\n",
    "$$\n",
    "\\frac{d}{dx}[x^n] = n \\cdot x^{n-1}\n",
    "$$\n",
    "\n",
    "Aturan Perkalian (Product Rule):\n",
    "$$\n",
    "\\frac{d}{dx}[u \\cdot v] = u' \\cdot v + u \\cdot v'\n",
    "$$\n",
    "\n",
    " \n",
    "Aturan Pembagian (Quotient Rule):\n",
    "$$\n",
    "\\frac{d}{dx}\\left[\\frac{u}{v}\\right] = \\frac{u' \\cdot v - u \\cdot v'}{v^2}\n",
    "$$\n",
    " \n",
    " \n",
    "Aturan Rantai (Chain Rule):\n",
    "$$\n",
    "[\\frac{d}{dx}[f(g(x))] = f'(g(x)) \\cdot g'(x)]  \n",
    "$$\n",
    "\n",
    "\n",
    "Aplikasi Differentiation:\n",
    "Menentukan kemiringan garis singgung suatu kurva.\n",
    "Menghitung kecepatan atau percepatan dalam fisika.\n",
    "Mencari nilai maksimum atau minimum suatu fungsi (optimasi)."
   ]
  },
  {
   "attachments": {
    "image.png": {
     "image/png": "[encoded data removed]"
    }
   },
   "cell_type": "markdown",
   "id": "8e09fec2",
   "metadata": {},
   "source": [
    "# Gradient of a Curve  \n",
    "\n",
    "Gradien suatu kurva pada titik $( P )$ adalah laju perubahan pada titik tersebut, dan gradien ini sama dengan gradien garis singgung (tangent) kurva di titik itu.  \n",
    "\n",
    "Secara geometris, kita memahami apa yang dimaksud dengan garis singgung, tetapi tidak mudah untuk menggambarnya secara akurat tanpa perhitungan. Untuk menemukan gradien sebenarnya dan garis singgung, kita biasanya menggunakan beberapa titik penyesuaian dan mencoba menggunakan rasio perubahan kecil pada $( y )$, yaitu:  \n",
    "\n",
    "$$\n",
    "\\delta y = y_Q - y_P\n",
    "$$\n",
    "\n",
    "terhadap perubahan pada $( x )$, yaitu:  \n",
    "\n",
    "$$\n",
    "\\delta x = x_Q - x_P\n",
    "$$\n",
    "\n",
    "untuk mengaproksimasi gradien. Dengan kata lain, kita menggunakan:  \n",
    "\n",
    "$$\n",
    "\\frac{\\delta y}{\\delta x} = \\frac{y_Q - y_P}{x_Q - x_P} \\quad (6.1)\n",
    "$$\n",
    "\n",
    "untuk memperkirakan gradien.  \n",
    "Karena titik $( Q )$ lebih dekat ke $( P )$ dibandingkan $( R )$, maka perkiraan gradien menggunakan $( P )$ dan $( Q )$ lebih baik dibandingkan menggunakan $( P )$ dan $( R )$ (lihat Gambar 6.1). Kita berharap perkiraan ini akan menjadi gradien sebenarnya ketika titik $( Q )$ menjadi sangat, sangat dekat dengan $( P )$.  Bagaimana cara mendeskripsikan kedekatan ini? Salah satu cara sederhana adalah dengan menggunakan jarak  $( h = \\delta x = PS = x_Q - x_P )$ dan membiarkan $( h )$ mendekati nol. Artinya, $( h \\to 0 )$.  \n",
    "\n",
    "# Gradien Kurva \\( y = x^3 \\)   \n",
    "\n",
    "![image.png](attachment:image.png)\n",
    "\n",
    "Karena kita tahu bahwa titik $( x_P = a )$, koordinatnya pada kurva $( y = x^3 )$ adalah $( (a, a^3) )$. Titik penyesuaian $( Q )$ sekarang memiliki koordinat $( (a + h, (a + h)^3) )$. Oleh karena itu, gradien pada titik $( P )$ menjadi:  \n",
    "\n",
    "$$\n",
    "\\frac{\\delta y}{\\delta x} = \\frac{(a + h)^3 - a^3}{(a + h) - a} = \\frac{(a + h)^3 - a^3}{h}\n",
    "$$\n",
    "\n",
    "### Penjelasan:  \n",
    "- **Koordinat $( P )$ :** $(a, a^3)$ \n",
    "- **Koordinat $( Q )$ :** $( (a + h, (a + h)^3) )$\n",
    "- **Perubahan $( y )$ :** $( \\delta y = (a + h)^3 - a^3 )$  \n",
    "- **Perubahan $( x )$ :** $( \\delta x = h )$  \n",
    "- **Gradien (pendekatan):** $( \\frac{\\delta y}{\\delta x} = \\frac{(a + h)^3 - a^3}{h} )$ \n",
    "\n",
    "Ketika $( h \\to 0 )$, rasio ini mendekati gradien sebenarnya di titik $( P )$, yang merupakan turunan $( y = x^3 )$ di $( x = a )$.  "
   ]
  },
  {
   "cell_type": "markdown",
   "id": "2d66630f",
   "metadata": {},
   "source": [
    "## Gradien Kurva $( f(x) = (4x^2 )$"
   ]
  },
  {
   "cell_type": "code",
   "execution_count": 2,
   "id": "eedc6cf0",
   "metadata": {},
   "outputs": [
    {
     "data": {
      "image/png": "[encoded data removed]",
      "text/plain": [
       "<Figure size 640x480 with 1 Axes>"
      ]
     },
     "metadata": {},
     "output_type": "display_data"
    }
   ],
   "source": [
    "import matplotlib.pyplot as plt\n",
    "import numpy as np\n",
    "\n",
    "x = np.linspace(-3, 3, 100)\n",
    "y = 4 * x**2\n",
    "\n",
    "plt.plot(x, y, label='f(x) = 4x²')\n",
    "plt.xlabel('x')\n",
    "plt.ylabel('f(x)')\n",
    "plt.title('Grafik f(x) = 4x²')\n",
    "plt.axhline(0, color='black', linewidth=0.5)\n",
    "plt.axvline(0, color='black', linewidth=0.5)\n",
    "plt.grid()\n",
    "plt.legend()\n",
    "plt.show()"
   ]
  },
  {
   "cell_type": "markdown",
   "id": "095aa3cc",
   "metadata": {},
   "source": [
    "Bentuk Dasar:\n",
    "Fungsi ini adalah fungsi kuadrat dengan bentuk umum \n",
    "$ f(x)=ax2+bx+c $ Pada $ f(x)= 4x^2 $:  \n",
    "a=4 (koefisien x 2)  \n",
    "b=0  \n",
    "c=0\n",
    "\n",
    "Parabola:\n",
    "\n",
    "Grafik berbentuk parabola terbuka ke atas karena   \n",
    "a>0\n",
    "\n",
    "Jika a<0, parabola akan terbuka ke bawah.\n",
    "\n",
    "Vertex (Titik Puncak):\n",
    "\n",
    "Karena \n",
    "b=0 dan c=0, vertex berada di titik (0,0).\n",
    "\n",
    "Rumus vertex: \n",
    "$ x = −b/2a $ \n",
    "Untuk \n",
    "$ f(x)=4x^2 $\n",
    "x=0, \n",
    "f(0)=0.\n",
    "\n",
    "Kompresi Grafik:\n",
    "\n",
    "Koefisien \n",
    "\n",
    "a=4 mengindikasikan grafik lebih sempit (terkompresi vertikal) dibanding \n",
    "$ f(x)=x^2 $  \n",
    "karena pengaruh perkalian 4.\n",
    "Semakin besar ∣a∣, parabola semakin sempit.\n",
    "\n",
    "Simetri:\n",
    "\n",
    "Grafik simetris terhadap sumbu-y karena fungsi genap:  \n",
    "$ f(−x)=f(x) $.\n",
    "\n",
    "Perbandingan dengan  \n",
    "$ f(x)=x^2 $ :\n",
    "\n",
    "Grafik   \n",
    "$ f(x)=4x^2 $\n",
    "  lebih curam karena nilai output (y) berubah 4 kali lebih cepat dibanding $ f(x)=x^2 $  \n",
    "  \n",
    "Contoh:\n",
    "\n",
    "Untuk x=1, $ f(x)=4(1)^2 = 4 $ (padahal di $ f(x)=x^2 $, y=1).\n",
    "\n",
    "Titik-Titik Penting:  \n",
    "$ f(0)=0 $  \n",
    "$ f(1)=4 $  \n",
    "$ f(−1)=4 $\n",
    "$ f(2)=16 $  \n",
    "$ f(−2)=16 $  \n",
    "\n",
    "Aplikasi:\n",
    "Fungsi kuadrat seperti ini sering muncul dalam fisika (gerak parabola), ekonomi (biaya produksi), atau optimasi."
   ]
  },
  {
   "cell_type": "markdown",
   "id": "f21e6c1d",
   "metadata": {},
   "source": [
    "## CONTOH SOAL\n",
    "### 1. Diberikan dua fungsi:\n",
    "- $( f(x) = (4x^2 )$\n",
    "- $( g(x) = 3\\sin(x) )$\n",
    "Tentukan turunan dari fungsi:\n",
    "$[ h(x) = 2f(x) - 5g(x) ]$"
   ]
  },
  {
   "cell_type": "code",
   "execution_count": 1,
   "id": "519db87e",
   "metadata": {},
   "outputs": [
    {
     "name": "stdout",
     "output_type": "stream",
     "text": [
      "16*x - 15*cos(x)\n"
     ]
    }
   ],
   "source": [
    "import sympy as sp\n",
    "\n",
    "# Mendefinisikan variabel\n",
    "x = sp.symbols('x')\n",
    "\n",
    "# Mendefinisikan fungsi h(x)\n",
    "h = 2 * (4 * x**2) - 5 * (3 * sp.sin(x))\n",
    "\n",
    "# Menghitung turunan dari h(x)\n",
    "h_derivative = sp.diff(h, x)\n",
    "\n",
    "# Menampilkan hasil\n",
    "print(h_derivative)"
   ]
  },
  {
   "cell_type": "markdown",
   "id": "faa94a78",
   "metadata": {},
   "source": [
    "### INTEGRATION"
   ]
  },
  {
   "cell_type": "markdown",
   "id": "e9994554",
   "metadata": {},
   "source": [
    "Integrasi adalah konsep dasar dalam kalkulus yang digunakan untuk menghitung luas di bawah kurva, serta untuk menemukan fungsi yang dapat menghasilkan suatu turunan tertentu. Secara umum, integrasi dapat dianggap sebagai kebalikan dari diferensiasi (turunan). Ada dua jenis utama dari integrasi: integrasi tak tentu dan integrasi tertentu."
   ]
  },
  {
   "cell_type": "markdown",
   "id": "42cdf0a8",
   "metadata": {},
   "source": [
    "1. Integrasi Tak Tentu\n",
    "Integrasi tak tentu digunakan untuk menemukan bentuk umum suatu fungsi yang turunan-nya adalah fungsi yang diketahui. Hasil dari integrasi tak tentu adalah suatu fungsi ditambah konstanta integrasi \n",
    "C, , karena ada banyak fungsi yang dapat memiliki turunan yang sama.Misalnya, jika kita tahu bahwa turunan dari $f(x)= x^2$ adalah $2x$, maka integral dari $2x$ adalah $x^2 + C$, dengan $C$ adalah konstanta integrasi.\n",
    "\n",
    "Secara umum, bentuk dari integral tak tentu adalah:"
   ]
  },
  {
   "cell_type": "markdown",
   "id": "51a75b80",
   "metadata": {},
   "source": [
    "$$\\int f(x)dx = F(x) + C$$"
   ]
  },
  {
   "cell_type": "markdown",
   "id": "7031e0c0",
   "metadata": {},
   "source": [
    "di mana $F(x)$ adalah anti turunan dari $f(x)$."
   ]
  },
  {
   "cell_type": "markdown",
   "id": "87a86192",
   "metadata": {},
   "source": [
    "2. Integrasi Tertentu\n",
    "Integrasi tertentu digunakan untuk menghitung nilai yang spesifik, seperti luas daerah di bawah kurva antara dua titik tertentu, $a$ dan $b$. Hasil dari integrasi tertentu adalah angka, bukan fungsi."
   ]
  },
  {
   "cell_type": "markdown",
   "id": "70a950ff",
   "metadata": {},
   "source": [
    "Bentuk dari integral tertentu adalah"
   ]
  },
  {
   "cell_type": "markdown",
   "id": "8eb43ac8",
   "metadata": {},
   "source": [
    "$$\\int_a^b f(x)  dx = F(b) - F(a)$$"
   ]
  },
  {
   "cell_type": "markdown",
   "id": "1d3d47b7",
   "metadata": {},
   "source": [
    "di mana $F(x)$ adalah anti turunan dari $f(x)$, dan $a$ dan $b$ adalah batas-batas integrasi."
   ]
  },
  {
   "cell_type": "markdown",
   "id": "50bc9b9a",
   "metadata": {},
   "source": [
    "Konsep-konsep penting dalam integrasi:\n",
    "* Antiturunan: Fungsi yang turunan-nya adalah fungsi yang diintegrasi.\n",
    "* Konstanta Integrasi: Pada integrasi tak tentu, selalu ada konstanta $C$ yang ditambahkan karena turunan dari konstanta adalah nol.\n",
    "* Aturan Integrasi: Ada beberapa aturan dasar dalam integrasi, seperti:\n",
    "    * Aturan Penjumlahan: $\\int(f(x) + g(x)) dx = \\int f(x) dx$ di mana $c$ adalah konstanta\n",
    "    * Aturan Perkalian dengan Konstanta:$\\int c\\cdot f(x) dx = c\\cdot \\int f(x) dx$ di mana $c$ adalah konstanta\n"
   ]
  },
  {
   "cell_type": "markdown",
   "id": "0c0c7cc0",
   "metadata": {},
   "source": [
    "ADAPUN CONTOH SOALNYA ANTARA LAIN:"
   ]
  },
  {
   "cell_type": "markdown",
   "id": "ca60651e",
   "metadata": {},
   "source": [
    "$$\\int 3x^2 dx$$"
   ]
  },
  {
   "cell_type": "code",
   "execution_count": 11,
   "id": "b8e6ff90",
   "metadata": {},
   "outputs": [
    {
     "data": {
      "text/latex": [
       "$\\displaystyle x^{3}$"
      ],
      "text/plain": [
       "x**3"
      ]
     },
     "execution_count": 11,
     "metadata": {},
     "output_type": "execute_result"
    }
   ],
   "source": [
    "from sympy import symbols, integrate\n",
    "x = symbols('x') \n",
    "\n",
    "f = 3* x**2\n",
    "integral = integrate(f,x)\n",
    "integral"
   ]
  },
  {
   "cell_type": "markdown",
   "id": "87c4a86e",
   "metadata": {},
   "source": [
    "$$\\int3x^2 \\, dx $$\n",
    "$$= \\left[ \\frac{3x^3}{3} \\right]$$\n",
    "$$= x^3$$"
   ]
  },
  {
   "cell_type": "code",
   "execution_count": 1,
   "id": "25320bb4",
   "metadata": {},
   "outputs": [
    {
     "data": {
      "text/plain": [
       "(-2.666666666666667, 7.05010936192686e-14)"
      ]
     },
     "execution_count": 1,
     "metadata": {},
     "output_type": "execute_result"
    }
   ],
   "source": [
    "from scipy.integrate import quad\n",
    "\n",
    "def f(x):\n",
    " return x**2 - 5*x + 4\n",
    "\n",
    "hasil = quad(f, 0, 4)\n",
    "hasil\n"
   ]
  },
  {
   "cell_type": "markdown",
   "id": "9099c1d0",
   "metadata": {},
   "source": [
    "$$\\int_0^4 (x^2 - 5x + 4) \\, dx = \\int_0^4 x^2 \\, dx - 5 \\int_0^4 x \\, dx + 4 \\int_0^4 dx$$\n",
    "$$= \\left[ \\frac{1}{3}x^3 \\right]_0^4 - 5 \\left[ \\frac{1}{2}x^2 \\right]_0^4 + 4 [x]_0^4$$\n",
    "$$= \\frac{64}{3} - 40 + 16 = -\\frac{8}{3}$$"
   ]
  }
 ],
 "metadata": {
  "kernelspec": {
   "display_name": "geomathalifka",
   "language": "python",
   "name": "python3"
  },
  "language_info": {
   "codemirror_mode": {
    "name": "ipython",
    "version": 3
   },
   "file_extension": ".py",
   "mimetype": "text/x-python",
   "name": "python",
   "nbconvert_exporter": "python",
   "pygments_lexer": "ipython3",
   "version": "3.13.2"
  }
 },
 "nbformat": 4,
 "nbformat_minor": 5
}
