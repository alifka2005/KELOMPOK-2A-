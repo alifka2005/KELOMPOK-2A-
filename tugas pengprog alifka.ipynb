{
 "cells": [
  {
   "cell_type": "markdown",
   "metadata": {},
   "source": [
    "# **NAMA :BASO MUHAMMAD ALIFKA AGNUR**\n",
    "# **NIM  :H061241015**"
   ]
  },
  {
   "cell_type": "markdown",
   "metadata": {},
   "source": [
    "**Soal 1**: Seorang pelanggan membeli buah di pasar. Jika 3 angka terakhir NIM Anda genap, dia mendapatkan diskon 10%. Jika ganjil, diskon 5%. Buat program untuk menghitung total harga.  \n"
   ]
  },
  {
   "cell_type": "code",
   "execution_count": null,
   "metadata": {},
   "outputs": [
    {
     "name": "stdout",
     "output_type": "stream",
     "text": [
      "Diskon yang didapatkan: 5%\n",
      "Jadi total harga setelah diskon: Rp 5225000.00\n"
     ]
    }
   ],
   "source": [
    "harga = 5500000\n",
    "nim = 15\n",
    "\n",
    "genap = nim  \n",
    "if genap % 2 == 0:  \n",
    "    diskon = 0.10  # Diskon 10%\n",
    "else:  \n",
    "    diskon = 0.05  # Diskon 5%\n",
    "\n",
    "total_harga = harga - (harga * diskon)\n",
    "\n",
    "\n",
    "print(f\"Diskon yang didapatkan: {int(diskon * 100)}%\")\n",
    "print(f\"Jadi total harga setelah diskon: Rp {total_harga:.2f}\")"
   ]
  },
  {
   "cell_type": "markdown",
   "metadata": {},
   "source": [
    "**Soal 2**: Seorang siswa ingin menentukan apakah dia lulus ujian. Jika 3 angka terakhir NIM Anda > 500, syarat kelulusan adalah nilai >= 80. Jika tidak, syaratnya nilai >= 75. Buat program untuk menentukan kelulusannya."
   ]
  },
  {
   "cell_type": "code",
   "execution_count": 6,
   "metadata": {},
   "outputs": [
    {
     "name": "stdout",
     "output_type": "stream",
     "text": [
      "Lulus\n"
     ]
    }
   ],
   "source": [
    "nilai = 78\n",
    "nim = 15\n",
    "\n",
    "\n",
    "tiga_angka_terakhir = nim % 1000\n",
    "if tiga_angka_terakhir > 500:\n",
    "    if nilai >= 80:\n",
    "        print(\"Lulus\")\n",
    "    else:\n",
    "        print(\"Tidak Lulus\")\n",
    "else:\n",
    "    if nilai >= 75:\n",
    "        print(\"Lulus\")\n",
    "    else:\n",
    "        print(\"Tidak Lulus\")"
   ]
  },
  {
   "cell_type": "markdown",
   "metadata": {},
   "source": [
    "**Soal 3**: Sebuah toko online memberikan gratis ongkir jika total belanja di atas Rp 200.000 ditambah 3 angka terakhir NIM Anda. Buat program untuk menentukan apakah pelanggan mendapatkan gratis ongkir."
   ]
  },
  {
   "cell_type": "code",
   "execution_count": 51,
   "metadata": {},
   "outputs": [
    {
     "name": "stdout",
     "output_type": "stream",
     "text": [
      "mendapatkan gratis ongkir\n"
     ]
    }
   ],
   "source": [
    "total_belanja = 250000\n",
    "nim = 15\n",
    "\n",
    "if total_belanja > 200000 + nim:\n",
    "    print ('mendapatkan gratis ongkir')  \n",
    "\n",
    "else:\n",
    "    print ('tidak mendapatkan gratis ongkir')\n"
   ]
  },
  {
   "cell_type": "markdown",
   "metadata": {},
   "source": [
    "**Soal 4**: Seorang karyawan mendapatkan bonus jika bekerja lebih dari 40 jam. Bonusnya adalah 10% dari gaji ditambah 3 angka terakhir NIM Anda. Buat program untuk menghitung gaji karyawan."
   ]
  },
  {
   "cell_type": "code",
   "execution_count": 1,
   "metadata": {},
   "outputs": [
    {
     "name": "stdout",
     "output_type": "stream",
     "text": [
      "Bonus yang didapatkan: Rp 10015.00\n",
      "Jadi total gaji setelah bonus: Rp 110015.00\n"
     ]
    }
   ],
   "source": [
    "gaji = 100000\n",
    "jam_kerja = 41\n",
    "nim = 15\n",
    "\n",
    "if jam_kerja > 40:\n",
    "    bonus = (0.10 * gaji) + nim\n",
    "    total_gaji = gaji + bonus\n",
    "    print(f\"Bonus yang didapatkan: Rp {bonus:.2f}\")\n",
    "    print(f\"Jadi total gaji setelah bonus: Rp {total_gaji:.2f}\")\n",
    "else:\n",
    "    print(f\"Tidak ada bonus. Total gaji: Rp {gaji:.2f}\")"
   ]
  },
  {
   "cell_type": "markdown",
   "metadata": {},
   "source": [
    "**Soal 5**: Sebuah restoran mengenakan biaya tambahan 5% untuk pajak jika total pesanan di atas Rp 50.000 dikurangi 3 angka terakhir NIM Anda. Buat program untuk menghitung total biaya."
   ]
  },
  {
   "cell_type": "code",
   "execution_count": 3,
   "metadata": {},
   "outputs": [
    {
     "name": "stdout",
     "output_type": "stream",
     "text": [
      "Total biaya: Rp 40000.00 (Tidak ada pajak)\n"
     ]
    }
   ],
   "source": [
    "total_pesanan = 40000\n",
    "nim = 15 \n",
    "\n",
    "if total_pesanan > 50000 - nim:\n",
    "    pajak = 0.05\n",
    "    total_biaya = total_pesanan + pajak\n",
    "    print(f\"pajak yang didapatkan: {pajak * total_pesanan}%\")\n",
    "    print(f\"Total biaya setelah pajak: Rp {total_biaya:.2f}\")\n",
    "else:\n",
    "    print(f\"Total biaya: Rp {total_pesanan:.2f} (Tidak ada pajak)\")"
   ]
  },
  {
   "cell_type": "markdown",
   "metadata": {},
   "source": [
    "**Soal 6**: Seorang pelari ingin menentukan apakah dia berhasil memenuhi target latihan. Jika jarak lari > (3 angka terakhir NIM Anda), dia berhasil. Buat program untuk menentukan hasil latihannya."
   ]
  },
  {
   "cell_type": "code",
   "execution_count": 7,
   "metadata": {},
   "outputs": [
    {
     "name": "stdout",
     "output_type": "stream",
     "text": [
      "Selamat! Anda berhasil memenuhi target latihan (>16 km).\n"
     ]
    }
   ],
   "source": [
    "jarak_lari = 17\n",
    "nim = 15\n",
    "target_latihan = nim + 1\n",
    "\n",
    "if jarak_lari > target_latihan:\n",
    "    print(f\"Selamat! Anda berhasil memenuhi target latihan (>{target_latihan} km).\")\n",
    "else:\n",
    "    print(f\"Maaf, Anda belum memenuhi target latihan (>{target_latihan} km).\")"
   ]
  },
  {
   "cell_type": "markdown",
   "metadata": {},
   "source": [
    "**Soal 7**: Sebuah bioskop memberikan tiket gratis untuk anak di bawah 5 tahun jika 3 angka terakhir NIM Anda genap. Jika ganjil, diskon 50%. Buat program untuk menentukan harga tiket."
   ]
  },
  {
   "cell_type": "code",
   "execution_count": 10,
   "metadata": {},
   "outputs": [
    {
     "name": "stdout",
     "output_type": "stream",
     "text": [
      "Diskon yang didapatkan: 50%\n",
      "Harga tiket setelah diskon: Rp 25000.00\n"
     ]
    }
   ],
   "source": [
    "harga_tiket = 50000\n",
    "nim = 15\n",
    "\n",
    "\n",
    "if nim % 2 == 0:\n",
    "    diskon = 1 \n",
    "else:\n",
    "    diskon = 0.50\n",
    "\n",
    "harga_setelah_diskon = harga_tiket - (harga_tiket * diskon)\n",
    "\n",
    "print(f\"Diskon yang didapatkan: {int(diskon * 100)}%\")\n",
    "print(f\"Harga tiket setelah diskon: Rp {harga_setelah_diskon:.2f}\")"
   ]
  },
  {
   "cell_type": "markdown",
   "metadata": {},
   "source": [
    "**Soal 8**: Sebuah toko buku memberikan diskon 20% jika pelanggan membeli lebih dari 5 buku dan 3 angka terakhir NIM Anda > 300. Jika tidak, diskon 10%. Buat program untuk menghitung total harga."
   ]
  },
  {
   "cell_type": "code",
   "execution_count": 13,
   "metadata": {},
   "outputs": [
    {
     "name": "stdout",
     "output_type": "stream",
     "text": [
      "Diskon yang didapatkan: 10%\n",
      "Total harga sebelum diskon: Rp 825000.00\n",
      "Total harga setelah diskon: Rp 742500.00\n"
     ]
    }
   ],
   "source": [
    "jumlah_buku = 11\n",
    "harga_per_buku = 75000\n",
    "nim = 15\n",
    "\n",
    "if jumlah_buku > 5 and nim > 300:\n",
    "    diskon = 0.20  \n",
    "else:\n",
    "    diskon = 0.10 \n",
    "\n",
    "total_harga_sebelum_diskon = jumlah_buku * harga_per_buku\n",
    "\n",
    "total_harga_setelah_diskon = total_harga_sebelum_diskon - (total_harga_sebelum_diskon * diskon)\n",
    "\n",
    "print(f\"Diskon yang didapatkan: {int(diskon * 100)}%\")\n",
    "print(f\"Total harga sebelum diskon: Rp {total_harga_sebelum_diskon:.2f}\")\n",
    "print(f\"Total harga setelah diskon: Rp {total_harga_setelah_diskon:.2f}\")"
   ]
  },
  {
   "cell_type": "markdown",
   "metadata": {},
   "source": [
    "**Soal 9**: Seorang mahasiswa ingin menentukan apakah suatu bilangan genap atau ganjil. Jika 3 angka terakhir NIM Anda genap, cetak \"Genap\". Jika ganjil, cetak \"Ganjil\"."
   ]
  },
  {
   "cell_type": "code",
   "execution_count": 18,
   "metadata": {},
   "outputs": [
    {
     "name": "stdout",
     "output_type": "stream",
     "text": [
      "ganjil\n"
     ]
    }
   ],
   "source": [
    "nim = 15\n",
    "\n",
    "if nim > 0:\n",
    "    if nim % 2 == 0:  \n",
    "        print(\"genap\")\n",
    "    else:  \n",
    "        print(\"ganjil\")\n",
    "elif nim < 0:\n",
    "    if nim % 2 == 0:  \n",
    "        print(\"genap\")\n",
    "    else:  \n",
    "        print(\"ganjil\")\n",
    "else:  \n",
    "    print(\"Nol\")"
   ]
  },
  {
   "cell_type": "markdown",
   "metadata": {},
   "source": [
    "**Soal 10**: Sebuah aplikasi menentukan apakah suatu tahun adalah tahun kabisat. Jika 3 angka terakhir NIM Anda genap, cetak \"Kabisat\". Jika ganjil, cetak \"Bukan Kabisat\"."
   ]
  },
  {
   "cell_type": "code",
   "execution_count": 21,
   "metadata": {},
   "outputs": [
    {
     "name": "stdout",
     "output_type": "stream",
     "text": [
      "bukan kabisat\n"
     ]
    }
   ],
   "source": [
    "nim = 15\n",
    "\n",
    "if nim % 2 ==0 :\n",
    "    print(\"kabisat\")\n",
    "else:\n",
    "    print (\"bukan kabisat\")"
   ]
  },
  {
   "cell_type": "markdown",
   "metadata": {},
   "source": [
    "**Soal 11**: Seorang pelanggan ingin mencetak daftar belanjaannya sebanyak (3 angka terakhir NIM Anda % 10) kali. Buat program untuk mencetak daftar belanja tersebut."
   ]
  },
  {
   "cell_type": "code",
   "execution_count": 30,
   "metadata": {},
   "outputs": [
    {
     "name": "stdout",
     "output_type": "stream",
     "text": [
      "Daftar belanjaan ke-1: mie, telur, dan air \n",
      "Daftar belanjaan ke-2: mie, telur, dan air \n",
      "Daftar belanjaan ke-3: mie, telur, dan air \n",
      "Daftar belanjaan ke-4: mie, telur, dan air \n",
      "Daftar belanjaan ke-5: mie, telur, dan air \n"
     ]
    }
   ],
   "source": [
    "daftar_belanja = \"mie, telur, dan air \"\n",
    "nim = 15\n",
    "\n",
    "jumlah_pengulangan = nim % 10\n",
    "\n",
    "for i in range(jumlah_pengulangan):\n",
    "    print(f\"Daftar belanjaan ke-{i+1}: {daftar_belanja}\")"
   ]
  },
  {
   "cell_type": "markdown",
   "metadata": {},
   "source": [
    "**Soal 12**: Seorang guru ingin mencetak angka dari 1 sampai 100, tetapi hanya bilangan kelipatan (3 angka terakhir NIM Anda % 5). Buat program untuk mencetak bilangan tersebut."
   ]
  },
  {
   "cell_type": "code",
   "execution_count": 49,
   "metadata": {},
   "outputs": [
    {
     "name": "stdout",
     "output_type": "stream",
     "text": [
      "Bilangan kelipatan 5 dari 1 sampai 100:\n",
      "5 10 15 20 25 30 35 40 45 50 55 60 65 70 75 80 85 90 95 100 "
     ]
    }
   ],
   "source": [
    "nim = 15\n",
    "\n",
    "kelipatan = nim % 5  \n",
    "if kelipatan == 0:\n",
    "    kelipatan = 5\n",
    "\n",
    "print(f\"Bilangan kelipatan {kelipatan} dari 1 sampai 100:\")\n",
    "for i in range(1, 101):\n",
    "    if i % kelipatan == 0:\n",
    "        print(i, end=\" \")"
   ]
  },
  {
   "cell_type": "markdown",
   "metadata": {},
   "source": [
    "**Soal 13**: Seorang penjual ingin mencetak tabel perkalian (3 angka terakhir NIM Anda % 9). Buat program untuk mencetak tabel tersebut.\n"
   ]
  },
  {
   "cell_type": "code",
   "execution_count": 53,
   "metadata": {},
   "outputs": [
    {
     "name": "stdout",
     "output_type": "stream",
     "text": [
      "Tabel perkalian 6:\n",
      "6 x 1 = 6\n",
      "6 x 2 = 12\n",
      "6 x 3 = 18\n",
      "6 x 4 = 24\n",
      "6 x 5 = 30\n",
      "6 x 6 = 36\n",
      "6 x 7 = 42\n",
      "6 x 8 = 48\n",
      "6 x 9 = 54\n",
      "6 x 10 = 60\n"
     ]
    }
   ],
   "source": [
    "nim = 15\n",
    "\n",
    "angka = nim % 9\n",
    "\n",
    "print(f\"Tabel perkalian {angka}:\")\n",
    "for i in range(1, 11):\n",
    "    print(f\"{angka} x {i} = {angka * i}\")"
   ]
  },
  {
   "cell_type": "markdown",
   "metadata": {},
   "source": [
    "**Soal 14**: Seorang pelukis ingin mencetak pola bintang segitiga siku-siku dengan tinggi (3 angka terakhir NIM Anda % 7). Buat program untuk mencetak pola tersebut."
   ]
  },
  {
   "cell_type": "code",
   "execution_count": null,
   "metadata": {},
   "outputs": [
    {
     "name": "stdout",
     "output_type": "stream",
     "text": [
      "Pola bintang dengan tinggi 1:\n",
      "*\n"
     ]
    }
   ],
   "source": [
    "nim = 15\n",
    "\n",
    "sisi = nim % 7\n",
    "\n",
    "if sisi > 0:\n",
    "    print(f\"Pola bintang dengan tinggi {sisi}:\")\n",
    "    for i in range(1, sisi + 1):\n",
    "        print(\"*\" * i)\n",
    "else:\n",
    "    print(\"Tinggi segitiga tidak valid (harus lebih besar dari 0).\")"
   ]
  },
  {
   "cell_type": "markdown",
   "metadata": {},
   "source": [
    "**Soal 15**: Seorang peneliti ingin mencetak bilangan prima dari 1 sampai (3 angka terakhir NIM Anda). Buat program untuk mencetak bilangan prima tersebut."
   ]
  },
  {
   "cell_type": "code",
   "execution_count": 62,
   "metadata": {},
   "outputs": [
    {
     "name": "stdout",
     "output_type": "stream",
     "text": [
      "Bilangan prima dari 1 sampai 15:\n",
      "2 3 5 7 11 13 "
     ]
    }
   ],
   "source": [
    "nim = 15\n",
    "\n",
    "batas = nim % 1000\n",
    "\n",
    "def is_prime(n):\n",
    "    if n < 2:\n",
    "        return False\n",
    "    for i in range(2, int(n**0.5) + 1):\n",
    "        if n % i == 0:\n",
    "            return False\n",
    "    return True  \n",
    "print(f\"Bilangan prima dari 1 sampai {batas}:\")\n",
    "for i in range(1, batas + 1):\n",
    "    if is_prime(i):\n",
    "        print(i, end=\" \")"
   ]
  },
  {
   "cell_type": "markdown",
   "metadata": {},
   "source": [
    "**Soal 16**: Seorang programmer ingin mencetak deret Fibonacci sebanyak (3 angka terakhir NIM Anda % 10) bilangan. Buat program untuk mencetak deret tersebut.\n"
   ]
  },
  {
   "cell_type": "code",
   "execution_count": 67,
   "metadata": {},
   "outputs": [
    {
     "name": "stdout",
     "output_type": "stream",
     "text": [
      "Deret Fibonacci sebanyak 5 angka:\n",
      "0 1 1 2 3 "
     ]
    }
   ],
   "source": [
    "nim = 15\n",
    "\n",
    "jumlah_fibonacci = nim % 1000 % 10\n",
    "\n",
    "def fibonacci(n):\n",
    "    a, b = 0, 1\n",
    "    for _ in range(n):\n",
    "        print(a, end=\" \")\n",
    "        a, b = b, a + b  \n",
    "print(f\"Deret Fibonacci sebanyak {jumlah_fibonacci} angka:\")\n",
    "fibonacci(jumlah_fibonacci)"
   ]
  },
  {
   "cell_type": "markdown",
   "metadata": {},
   "source": [
    "**Soal 17**: Seorang petani ingin mencetak bilangan kelipatan (3 angka terakhir NIM Anda % 6) dari 1 sampai 100. Buat program untuk mencetak bilangan tersebut."
   ]
  },
  {
   "cell_type": "code",
   "execution_count": null,
   "metadata": {},
   "outputs": [
    {
     "name": "stdout",
     "output_type": "stream",
     "text": [
      "Bilangan kelipatan 3 dari 1 sampai 100:\n",
      "3 6 9 12 15 18 21 24 27 30 33 36 39 42 45 48 51 54 57 60 63 66 69 72 75 78 81 84 87 90 93 96 99 "
     ]
    }
   ],
   "source": [
    "nim = 15  \n",
    "\n",
    "kelipatan = nim % 1000 % 6 \n",
    " \n",
    "print(f\"Bilangan kelipatan {kelipatan} dari 1 sampai 100:\")\n",
    "for i in range(1, 101):\n",
    "    if i % kelipatan == 0:\n",
    "        print(i, end=\" \")"
   ]
  },
  {
   "cell_type": "markdown",
   "metadata": {},
   "source": [
    "**Soal 18**: Seorang siswa ingin mencetak bilangan ganjil dari 1 sampai (3 angka terakhir NIM Anda). Buat program untuk mencetak bilangan tersebut."
   ]
  },
  {
   "cell_type": "code",
   "execution_count": 69,
   "metadata": {},
   "outputs": [
    {
     "name": "stdout",
     "output_type": "stream",
     "text": [
      "Bilangan ganjil dari 1 sampai 15:\n",
      "1 3 5 7 9 11 13 15 "
     ]
    }
   ],
   "source": [
    "nim = 15  \n",
    "\n",
    "batas = nim % 1000 \n",
    "\n",
    "print(f\"Bilangan ganjil dari 1 sampai {batas}:\")\n",
    "for i in range(1, batas + 1, 2):  # Mulai dari 1, dengan langkah 2 (bilangan ganjil)\n",
    "    print(i, end=\" \")"
   ]
  },
  {
   "cell_type": "markdown",
   "metadata": {},
   "source": [
    "**Soal 19**: Seorang penjual ingin mencetak faktorial dari (3 angka terakhir NIM Anda % 8). Buat program untuk mencetak faktorial tersebut."
   ]
  },
  {
   "cell_type": "code",
   "execution_count": 70,
   "metadata": {},
   "outputs": [
    {
     "name": "stdout",
     "output_type": "stream",
     "text": [
      "Faktorial dari 7 adalah 5040\n"
     ]
    }
   ],
   "source": [
    "nim = 15  \n",
    "\n",
    "angka = nim % 1000 % 8  \n",
    "\n",
    "def faktorial(n):\n",
    "    hasil = 1\n",
    "    for i in range(1, n + 1):\n",
    "        hasil *= i\n",
    "    return hasil  \n",
    "\n",
    "print(f\"Faktorial dari {angka} adalah {faktorial(angka)}\")"
   ]
  },
  {
   "cell_type": "markdown",
   "metadata": {},
   "source": [
    "**Soal 20**: Seorang pelanggan ingin mencetak \"Terima Kasih\" sebanyak (3 angka terakhir NIM Anda % 5) kali. Buat program untuk mencetak pesan tersebut."
   ]
  },
  {
   "cell_type": "code",
   "execution_count": 78,
   "metadata": {},
   "outputs": [
    {
     "name": "stdout",
     "output_type": "stream",
     "text": [
      "nd bisa bosqu\n"
     ]
    }
   ],
   "source": [
    "nim = 15\n",
    "\n",
    "jumlah_pesan = nim % 1000 % 5\n",
    "if jumlah_pesan > 0:\n",
    "    for _ in range(jumlah_pesan):\n",
    "        print(\"Terima Kasih\")\n",
    "else:\n",
    "    print(\"nd bisa bosqu\")"
   ]
  }
 ],
 "metadata": {
  "kernelspec": {
   "display_name": "Python 3",
   "language": "python",
   "name": "python3"
  },
  "language_info": {
   "codemirror_mode": {
    "name": "ipython",
    "version": 3
   },
   "file_extension": ".py",
   "mimetype": "text/x-python",
   "name": "python",
   "nbconvert_exporter": "python",
   "pygments_lexer": "ipython3",
   "version": "3.13.2"
  }
 },
 "nbformat": 4,
 "nbformat_minor": 2
}
