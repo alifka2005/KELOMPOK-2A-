{
 "cells": [
  {
   "cell_type": "markdown",
   "id": "9d226694",
   "metadata": {},
   "source": [
    "Seorang pelanggan membeli buah di pasar. Jika 3 angka terakhir NIM Anda genap, dia mendapatkan diskon 10%. Jika ganjil, diskon 5%. Buat program untuk menghitung total harga"
   ]
  },
  {
   "cell_type": "code",
   "execution_count": 1,
   "id": "d4c79e58",
   "metadata": {},
   "outputs": [
    {
     "name": "stdout",
     "output_type": "stream",
     "text": [
      "Diskon yang didapatkan: 10%\n",
      "Jadi total harga setelah diskon: Rp 27.000.00\n"
     ]
    }
   ],
   "source": [
    "harga = 30000 \n",
    "nim = 2\n",
    "\n",
    "if nim % 2 == 0:  \n",
    "    diskon = 0.10  # Diskon 10%\n",
    "else:  \n",
    "    diskon = 0.05  # Diskon 5%\n",
    "\n",
    "total_harga = harga - (harga * diskon)\n",
    "\n",
    "print(f\"Diskon yang didapatkan: {int(diskon * 100)}%\")\n",
    "print(f\"Jadi total harga setelah diskon: Rp {total_harga:,.2f}\".replace(',', '.'))\n"
   ]
  },
  {
   "cell_type": "markdown",
   "id": "9de48648",
   "metadata": {},
   "source": [
    "Seorang siswa ingin menentukan apakah dia lulus ujian. Jika 3 angka terakhir NIM Anda > 500, syarat kelulusan adalah nilai >= 80. Jika tidak, syaratnya nilai >= 75. Buat program untuk menentukan kelulusannya."
   ]
  },
  {
   "cell_type": "code",
   "execution_count": 4,
   "id": "136750ec",
   "metadata": {},
   "outputs": [
    {
     "name": "stdout",
     "output_type": "stream",
     "text": [
      "Syarat lulus untuk NIM 2 adalah nilai ≥ 75\n",
      "Hasil: Lulus\n"
     ]
    }
   ],
   "source": [
    "nilai = 80\n",
    "nim = 2\n",
    "\n",
    "tiga_angka_terakhir = nim % 1000\n",
    "\n",
    "if tiga_angka_terakhir > 500:\n",
    "    syarat = 80\n",
    "else:\n",
    "    syarat = 75\n",
    "\n",
    "print(f\"Syarat lulus untuk NIM {nim} adalah nilai ≥ {syarat}\")\n",
    "if nilai >= syarat:\n",
    "    print(\"Hasil: Lulus\")\n",
    "else:\n",
    "    print(\"Hasil: Tidak Lulus\")\n"
   ]
  },
  {
   "cell_type": "markdown",
   "id": "63a648db",
   "metadata": {},
   "source": [
    "Sebuah toko online memberikan gratis ongkir jika total belanja di atas Rp 200.000 ditambah 3 angka terakhir NIM Anda. Buat program untuk menentukan apakah pelanggan mendapatkan gratis ongkir"
   ]
  },
  {
   "cell_type": "code",
   "execution_count": 5,
   "id": "f11e3624",
   "metadata": {},
   "outputs": [
    {
     "name": "stdout",
     "output_type": "stream",
     "text": [
      "mendapatkan gratis ongkir\n"
     ]
    }
   ],
   "source": [
    "total_belanja = 270000\n",
    "nim = 2\n",
    "\n",
    "if total_belanja > 200000 + nim:\n",
    "    print ('mendapatkan gratis ongkir')  \n",
    "\n",
    "else:\n",
    "    print ('tidak mendapatkan gratis ongkir')"
   ]
  },
  {
   "cell_type": "markdown",
   "id": "0ab6d79d",
   "metadata": {},
   "source": [
    "Seorang karyawan mendapatkan bonus jika bekerja lebih dari 40 jam. Bonusnya adalah 10% dari gaji ditambah 3 angka terakhir NIM Anda. Buat program untuk menghitung gaji karyawa"
   ]
  },
  {
   "cell_type": "code",
   "execution_count": null,
   "id": "f785a50d",
   "metadata": {},
   "outputs": [],
   "source": [
    "gaji = 15000\n",
    "jam_kerja = 45\n",
    "nim = 4\n",
    "\n",
    "if jam_kerja > 40:\n",
    "    bonus = (0.10 * gaji) + nim\n",
    "    total_gaji = gaji + bonus\n",
    "    print(f\"Bonus yang didapatkan: Rp {bonus:.2f}\")\n",
    "    print(f\"Jadi total gaji setelah bonus: Rp {total_gaji:.2f}\")\n",
    "else:\n",
    "    print(f\"Tidak ada bonus. Total gaji: Rp {gaji:.2f}\")\n",
    "Bonus yang didapatkan: Rp 1504.00"
   ]
  },
  {
   "cell_type": "markdown",
   "id": "75072f83",
   "metadata": {},
   "source": [
    "Sebuah restoran mengenakan biaya tambahan 5% untuk pajak jika total pesanan di atas Rp 50.000 dikurangi 3 angka terakhir NIM Anda. Buat program untuk menghitung total biaya."
   ]
  },
  {
   "cell_type": "code",
   "execution_count": 1,
   "id": "1ab3b972",
   "metadata": {},
   "outputs": [
    {
     "name": "stdout",
     "output_type": "stream",
     "text": [
      "pajak yang didapatkan: 3650.0%\n",
      "Total biaya setelah pajak: Rp 73000.05\n"
     ]
    }
   ],
   "source": [
    "total_pesanan = 73000\n",
    "nim = 2 \n",
    "\n",
    "if total_pesanan > 50000 - nim:\n",
    "    pajak = 0.05\n",
    "    total_biaya = total_pesanan + pajak\n",
    "    print(f\"pajak yang didapatkan: {pajak * total_pesanan}%\")\n",
    "    print(f\"Total biaya setelah pajak: Rp {total_biaya:.2f}\")\n",
    "else:\n",
    "    print(f\"Total biaya: Rp {total_pesanan:.2f} (Tidak ada pajak)\")"
   ]
  },
  {
   "cell_type": "markdown",
   "id": "004e0e05",
   "metadata": {},
   "source": [
    " Seorang pelari ingin menentukan apakah dia berhasil memenuhi target latihan. Jika jarak lari > (3 angka terakhir NIM Anda), dia berhasil. Buat program untuk menentukan hasil latihannya."
   ]
  },
  {
   "cell_type": "code",
   "execution_count": 2,
   "id": "aa474566",
   "metadata": {},
   "outputs": [
    {
     "name": "stdout",
     "output_type": "stream",
     "text": [
      "Selamat! Anda berhasil memenuhi target latihan (>3 km).\n"
     ]
    }
   ],
   "source": [
    "jarak_lari = 7\n",
    "nim = 2\n",
    "target_latihan = nim + 1\n",
    "\n",
    "if jarak_lari > target_latihan:\n",
    "    print(f\"Selamat! Anda berhasil memenuhi target latihan (>{target_latihan} km).\")\n",
    "else:\n",
    "    print(f\"Maaf, Anda belum memenuhi target latihan (>{target_latihan} km).\")"
   ]
  },
  {
   "cell_type": "markdown",
   "id": "3b3dfecc",
   "metadata": {},
   "source": [
    "Sebuah bioskop memberikan tiket gratis untuk anak di bawah 5 tahun jika 3 angka terakhir NIM Anda genap. Jika ganjil, diskon 50%. Buat program untuk menentukan harga tiket."
   ]
  },
  {
   "cell_type": "code",
   "execution_count": 4,
   "id": "4a9195f2",
   "metadata": {},
   "outputs": [
    {
     "name": "stdout",
     "output_type": "stream",
     "text": [
      "Diskon yang didapatkan: 100%\n",
      "Harga tiket setelah diskon: Rp 0.00\n"
     ]
    }
   ],
   "source": [
    "harga_tiket = 70000\n",
    "nim = 2\n",
    "\n",
    "\n",
    "if nim % 2 == 0:\n",
    "    diskon = 1 \n",
    "else:\n",
    "    diskon = 0.50\n",
    "\n",
    "harga_setelah_diskon = harga_tiket - (harga_tiket * diskon)\n",
    "\n",
    "print(f\"Diskon yang didapatkan: {int(diskon * 100)}%\")\n",
    "print(f\"Harga tiket setelah diskon: Rp {harga_setelah_diskon:.2f}\")"
   ]
  },
  {
   "cell_type": "markdown",
   "id": "20e13ed7",
   "metadata": {},
   "source": [
    "Sebuah toko buku memberikan diskon 20% jika pelanggan membeli lebih dari 5 buku dan 3 angka terakhir NIM Anda > 300. Jika tidak, diskon 10%. Buat program untuk menghitung total harga."
   ]
  },
  {
   "cell_type": "code",
   "execution_count": 7,
   "id": "86c59dcd",
   "metadata": {},
   "outputs": [
    {
     "name": "stdout",
     "output_type": "stream",
     "text": [
      "Diskon yang didapatkan: 10%\n",
      "Total harga sebelum diskon: Rp 115000.00\n",
      "Total harga setelah diskon: Rp 103500.00\n"
     ]
    }
   ],
   "source": [
    "jumlah_buku = 23\n",
    "harga_per_buku = 5000\n",
    "nim = 2\n",
    "\n",
    "if jumlah_buku > 5 and nim > 300:\n",
    "    diskon = 0.20  \n",
    "else:\n",
    "    diskon = 0.10 \n",
    "\n",
    "total_harga_sebelum_diskon = jumlah_buku * harga_per_buku\n",
    "\n",
    "total_harga_setelah_diskon = total_harga_sebelum_diskon - (total_harga_sebelum_diskon * diskon)\n",
    "\n",
    "print(f\"Diskon yang didapatkan: {int(diskon * 100)}%\")\n",
    "print(f\"Total harga sebelum diskon: Rp {total_harga_sebelum_diskon:.2f}\")\n",
    "print(f\"Total harga setelah diskon: Rp {total_harga_setelah_diskon:.2f}\")"
   ]
  },
  {
   "cell_type": "markdown",
   "id": "05a043b2",
   "metadata": {},
   "source": [
    "Seorang mahasiswa ingin menentukan apakah suatu bilangan genap atau ganjil. Jika 3 angka terakhir NIM Anda genap, cetak \"Genap\". Jika ganjil, cetak \"Ganjil\"."
   ]
  },
  {
   "cell_type": "code",
   "execution_count": 8,
   "id": "5dbf2a84",
   "metadata": {},
   "outputs": [
    {
     "name": "stdout",
     "output_type": "stream",
     "text": [
      "genap\n"
     ]
    }
   ],
   "source": [
    "nim = 2\n",
    "\n",
    "if nim > 0:\n",
    "    if nim % 2 == 0:  \n",
    "        print(\"genap\")\n",
    "    else:  \n",
    "        print(\"ganjil\")\n",
    "elif nim < 0:\n",
    "    if nim % 2 == 0:  \n",
    "        print(\"genap\")\n",
    "    else:  \n",
    "        print(\"ganjil\")\n",
    "else:  \n",
    "    print(\"Nol\")"
   ]
  },
  {
   "cell_type": "markdown",
   "id": "7737c34f",
   "metadata": {},
   "source": [
    "Sebuah aplikasi menentukan apakah suatu tahun adalah tahun kabisat. Jika 3 angka terakhir NIM Anda genap, cetak \"Kabisat\". Jika ganjil, cetak \"Bukan Kabisat\"."
   ]
  },
  {
   "cell_type": "code",
   "execution_count": 9,
   "id": "504ef3f8",
   "metadata": {},
   "outputs": [
    {
     "name": "stdout",
     "output_type": "stream",
     "text": [
      "kabisat\n"
     ]
    }
   ],
   "source": [
    "nim = 2\n",
    "\n",
    "if nim % 2 ==0 :\n",
    "    print(\"kabisat\")\n",
    "else:\n",
    "    print (\"bukan kabisat\")"
   ]
  },
  {
   "cell_type": "markdown",
   "id": "00be9a2b",
   "metadata": {},
   "source": [
    "Seorang pelanggan ingin mencetak daftar belanjaannya sebanyak (3 angka terakhir NIM Anda % 10) kali. Buat program untuk mencetak daftar belanja tersebut."
   ]
  },
  {
   "cell_type": "code",
   "execution_count": 10,
   "id": "847eb9d8",
   "metadata": {},
   "outputs": [
    {
     "name": "stdout",
     "output_type": "stream",
     "text": [
      "Daftar belanjaan ke-1: baju, rok,dan sandal \n",
      "Daftar belanjaan ke-2: baju, rok,dan sandal \n"
     ]
    }
   ],
   "source": [
    "daftar_belanja = \"baju, rok,dan sandal \"\n",
    "nim = 2\n",
    "\n",
    "jumlah_pengulangan = nim % 10\n",
    "\n",
    "for i in range(jumlah_pengulangan):\n",
    "    print(f\"Daftar belanjaan ke-{i+1}: {daftar_belanja}\")"
   ]
  },
  {
   "cell_type": "markdown",
   "id": "80f1cb7e",
   "metadata": {},
   "source": [
    "Seorang guru ingin mencetak angka dari 1 sampai 100, tetapi hanya bilangan kelipatan (3 angka terakhir NIM Anda % 5). Buat program untuk mencetak bilangan tersebut."
   ]
  },
  {
   "cell_type": "code",
   "execution_count": 11,
   "id": "f97aad54",
   "metadata": {},
   "outputs": [
    {
     "name": "stdout",
     "output_type": "stream",
     "text": [
      "Bilangan kelipatan 2 dari 1 sampai 100:\n",
      "2 4 6 8 10 12 14 16 18 20 22 24 26 28 30 32 34 36 38 40 42 44 46 48 50 52 54 56 58 60 62 64 66 68 70 72 74 76 78 80 82 84 86 88 90 92 94 96 98 100 "
     ]
    }
   ],
   "source": [
    "nim = 2 \n",
    "kelipatan = nim % 5  \n",
    "\n",
    "if kelipatan == 0:\n",
    "    print(\"Tidak ada kelipatan 0! Nilai NIM menghasilkan modulus 0.\")\n",
    "else:\n",
    "    print(f\"Bilangan kelipatan {kelipatan} dari 1 sampai 100:\")\n",
    "    for i in range(1, 101):\n",
    "        if i % kelipatan == 0:\n",
    "            print(i, end=\" \")\n"
   ]
  },
  {
   "cell_type": "markdown",
   "id": "261dd005",
   "metadata": {},
   "source": [
    "Seorang penjual ingin mencetak tabel perkalian (3 angka terakhir NIM Anda % 9). Buat program untuk mencetak tabel tersebut"
   ]
  },
  {
   "cell_type": "code",
   "execution_count": 12,
   "id": "9f12261a",
   "metadata": {},
   "outputs": [
    {
     "name": "stdout",
     "output_type": "stream",
     "text": [
      "Tabel perkalian 2:\n",
      "2 x 1 = 2\n",
      "2 x 2 = 4\n",
      "2 x 3 = 6\n",
      "2 x 4 = 8\n",
      "2 x 5 = 10\n",
      "2 x 6 = 12\n",
      "2 x 7 = 14\n",
      "2 x 8 = 16\n",
      "2 x 9 = 18\n",
      "2 x 10 = 20\n"
     ]
    }
   ],
   "source": [
    "\n",
    "nim = 2\n",
    "angka = nim % 9\n",
    "print(f\"Tabel perkalian {angka}:\")\n",
    "for i in range(1, 11):\n",
    "    print(f\"{angka} x {i} = {angka * i}\")\n"
   ]
  },
  {
   "cell_type": "markdown",
   "id": "441005d1",
   "metadata": {},
   "source": [
    "Seorang pelukis ingin mencetak pola bintang segitiga siku-siku dengan tinggi (3 angka terakhir NIM Anda % 7). Buat program untuk mencetak pola tersebut."
   ]
  },
  {
   "cell_type": "code",
   "execution_count": 13,
   "id": "c7111da5",
   "metadata": {},
   "outputs": [
    {
     "name": "stdout",
     "output_type": "stream",
     "text": [
      "Pola bintang dengan tinggi 2:\n",
      "*\n",
      "**\n"
     ]
    }
   ],
   "source": [
    "nim = 2\n",
    "\n",
    "sisi = nim % 7  # sisi = 2 % 7 = 2\n",
    "\n",
    "if sisi > 0:\n",
    "    print(f\"Pola bintang dengan tinggi {sisi}:\")\n",
    "    for i in range(1, sisi + 1):\n",
    "        print(\"*\" * i)\n",
    "else:\n",
    "    print(\"Tinggi segitiga tidak valid (harus lebih besar dari 0).\")\n"
   ]
  },
  {
   "cell_type": "markdown",
   "id": "f8e85fed",
   "metadata": {},
   "source": [
    "Seorang peneliti ingin mencetak bilangan prima dari 1 sampai (3 angka terakhir NIM Anda). Buat program untuk mencetak bilangan prima tersebut."
   ]
  },
  {
   "cell_type": "code",
   "execution_count": 14,
   "id": "4cebfb05",
   "metadata": {},
   "outputs": [
    {
     "name": "stdout",
     "output_type": "stream",
     "text": [
      "Bilangan prima dari 1 sampai 2:\n",
      "2 "
     ]
    }
   ],
   "source": [
    "nim = 2\n",
    "\n",
    "batas = nim % 1000\n",
    "\n",
    "def is_prime(n):\n",
    "    if n < 2:\n",
    "        return False\n",
    "    for i in range(2, int(n**0.5) + 1):\n",
    "        if n % i == 0:\n",
    "            return False\n",
    "    return True  \n",
    "print(f\"Bilangan prima dari 1 sampai {batas}:\")\n",
    "for i in range(1, batas + 1):\n",
    "    if is_prime(i):\n",
    "        print(i, end=\" \")"
   ]
  },
  {
   "cell_type": "markdown",
   "id": "b28dc876",
   "metadata": {},
   "source": [
    "Seorang programmer ingin mencetak deret Fibonacci sebanyak (3 angka terakhir NIM Anda % 10) bilangan. Buat program untuk mencetak deret tersebut."
   ]
  },
  {
   "cell_type": "code",
   "execution_count": 15,
   "id": "d6d17ee4",
   "metadata": {},
   "outputs": [
    {
     "name": "stdout",
     "output_type": "stream",
     "text": [
      "Deret Fibonacci sebanyak 2 angka:\n",
      "0 1 "
     ]
    }
   ],
   "source": [
    "nim = 2\n",
    "\n",
    "jumlah_fibonacci = nim % 1000 % 10\n",
    "\n",
    "def fibonacci(n):\n",
    "    a, b = 0, 1\n",
    "    for _ in range(n):\n",
    "        print(a, end=\" \")\n",
    "        a, b = b, a + b  \n",
    "print(f\"Deret Fibonacci sebanyak {jumlah_fibonacci} angka:\")\n",
    "fibonacci(jumlah_fibonacci)"
   ]
  },
  {
   "cell_type": "markdown",
   "id": "d54d9d92",
   "metadata": {},
   "source": [
    "Seorang petani ingin mencetak bilangan kelipatan (3 angka terakhir NIM Anda % 6) dari 1 sampai 100. Buat program untuk mencetak bilangan tersebut."
   ]
  },
  {
   "cell_type": "code",
   "execution_count": 16,
   "id": "a827fb0d",
   "metadata": {},
   "outputs": [
    {
     "name": "stdout",
     "output_type": "stream",
     "text": [
      "Bilangan kelipatan 2 dari 1 sampai 100:\n",
      "2 4 6 8 10 12 14 16 18 20 22 24 26 28 30 32 34 36 38 40 42 44 46 48 50 52 54 56 58 60 62 64 66 68 70 72 74 76 78 80 82 84 86 88 90 92 94 96 98 100 "
     ]
    }
   ],
   "source": [
    "nim = 2\n",
    "\n",
    "kelipatan = nim % 1000 % 6 \n",
    " \n",
    "print(f\"Bilangan kelipatan {kelipatan} dari 1 sampai 100:\")\n",
    "for i in range(1, 101):\n",
    "    if i % kelipatan == 0:\n",
    "        print(i, end=\" \")"
   ]
  },
  {
   "cell_type": "markdown",
   "id": "e725f1b6",
   "metadata": {},
   "source": [
    "Seorang siswa ingin mencetak bilangan ganjil dari 1 sampai (3 angka terakhir NIM Anda). Buat program untuk mencetak bilangan tersebut."
   ]
  },
  {
   "cell_type": "code",
   "execution_count": 17,
   "id": "e6bbd30d",
   "metadata": {},
   "outputs": [
    {
     "name": "stdout",
     "output_type": "stream",
     "text": [
      "Bilangan ganjil dari 1 sampai 2:\n",
      "1 "
     ]
    }
   ],
   "source": [
    "nim = 2\n",
    "\n",
    "batas = nim % 1000 \n",
    "\n",
    "print(f\"Bilangan ganjil dari 1 sampai {batas}:\")\n",
    "for i in range(1, batas + 1, 2):  # Mulai dari 1, dengan langkah 2 (bilangan ganjil)\n",
    "    print(i, end=\" \")"
   ]
  },
  {
   "cell_type": "markdown",
   "id": "cd2c2aa7",
   "metadata": {},
   "source": [
    "Seorang penjual ingin mencetak faktorial dari (3 angka terakhir NIM Anda % 8). Buat program untuk mencetak faktorial tersebut."
   ]
  },
  {
   "cell_type": "code",
   "execution_count": 18,
   "id": "958ea11a",
   "metadata": {},
   "outputs": [
    {
     "name": "stdout",
     "output_type": "stream",
     "text": [
      "Faktorial dari 2 adalah 2\n"
     ]
    }
   ],
   "source": [
    "nim = 2\n",
    "\n",
    "angka = nim % 1000 % 8  \n",
    "\n",
    "def faktorial(n):\n",
    "    hasil = 1\n",
    "    for i in range(1, n + 1):\n",
    "        hasil *= i\n",
    "    return hasil  \n",
    "\n",
    "print(f\"Faktorial dari {angka} adalah {faktorial(angka)}\")"
   ]
  },
  {
   "cell_type": "markdown",
   "id": "0a113dc3",
   "metadata": {},
   "source": [
    "Seorang pelanggan ingin mencetak \"Terima Kasih\" sebanyak (3 angka terakhir NIM Anda % 5) kali. Buat program untuk mencetak pesan tersebut"
   ]
  },
  {
   "cell_type": "code",
   "execution_count": 20,
   "id": "bab94244",
   "metadata": {},
   "outputs": [
    {
     "name": "stdout",
     "output_type": "stream",
     "text": [
      "Terima Kasih, thank yuo, arigato\n",
      "Terima Kasih, thank yuo, arigato\n"
     ]
    }
   ],
   "source": [
    "nim = 2\n",
    "\n",
    "jumlah_pesan = nim % 1000 % 5\n",
    "for _ in range(jumlah_pesan):\n",
    "        print(\"Terima Kasih, thank yuo, arigato\")"
   ]
  },
  {
   "cell_type": "code",
   "execution_count": null,
   "id": "371315f3",
   "metadata": {},
   "outputs": [],
   "source": []
  },
  {
   "cell_type": "code",
   "execution_count": null,
   "id": "b8062b10",
   "metadata": {},
   "outputs": [],
   "source": []
  },
  {
   "cell_type": "code",
   "execution_count": null,
   "id": "b7946711",
   "metadata": {},
   "outputs": [],
   "source": []
  }
 ],
 "metadata": {
  "kernelspec": {
   "display_name": "base",
   "language": "python",
   "name": "python3"
  },
  "language_info": {
   "codemirror_mode": {
    "name": "ipython",
    "version": 3
   },
   "file_extension": ".py",
   "mimetype": "text/x-python",
   "name": "python",
   "nbconvert_exporter": "python",
   "pygments_lexer": "ipython3",
   "version": "3.12.9"
  }
 },
 "nbformat": 4,
 "nbformat_minor": 5
}
