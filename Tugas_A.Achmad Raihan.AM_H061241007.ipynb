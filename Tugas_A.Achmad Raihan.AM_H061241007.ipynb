{
 "cells": [
  {
   "cell_type": "markdown",
   "metadata": {},
   "source": [
    "### NAMA : A.Achmad Raihan. AM\n",
    "### NIM : H061241007\n",
    "### Kelas A"
   ]
  },
  {
   "cell_type": "markdown",
   "metadata": {},
   "source": [
    "# Soal 1"
   ]
  },
  {
   "cell_type": "code",
   "execution_count": 56,
   "metadata": {},
   "outputs": [
    {
     "name": "stdout",
     "output_type": "stream",
     "text": [
      "## Program menghitung total harga buah dengan diskon ##\n",
      "=======================================================\n",
      "\n",
      "NIM Anda ganjil, diskon yang diberikan: 5%\n",
      "\n",
      "Total harga sebelum diskon: IDR 400000.00\n",
      "Diskon (5%): IDR 20000.00\n",
      "Total harga setelah diskon: IDR 380000.00\n"
     ]
    }
   ],
   "source": [
    "print(\"## Program menghitung total harga buah dengan diskon ##\")\n",
    "print(\"=======================================================\")\n",
    "print()\n",
    "\n",
    "harga_per_unit = 4000\n",
    "jumlah_buah = 100        \n",
    "nim_akhir = 7\n",
    "\n",
    "total_harga = harga_per_unit * jumlah_buah\n",
    "\n",
    "if nim_akhir % 2 == 0:\n",
    "    diskon = 0.10  # 10% jika genap\n",
    "    print(\"NIM Anda genap, diskon yang diberikan: 10%\")\n",
    "else:\n",
    "    diskon = 0.05  # 5% jika ganjil\n",
    "    print(\"NIM Anda ganjil, diskon yang diberikan: 5%\")\n",
    "\n",
    "potongan_harga = total_harga * diskon\n",
    "total_setelah_diskon = total_harga - potongan_harga\n",
    "\n",
    "print(\"\\nTotal harga sebelum diskon: IDR {:.2f}\".format(total_harga))\n",
    "print(\"Diskon ({}%): IDR {:.2f}\".format(int(diskon * 100), potongan_harga))\n",
    "print(\"Total harga setelah diskon: IDR {:.2f}\".format(total_setelah_diskon))\n"
   ]
  },
  {
   "cell_type": "markdown",
   "metadata": {},
   "source": [
    "# Soal 2"
   ]
  },
  {
   "cell_type": "code",
   "execution_count": 40,
   "metadata": {},
   "outputs": [
    {
     "name": "stdout",
     "output_type": "stream",
     "text": [
      "Program untuk menentukan kelulusan ujian\n",
      "========================================\n",
      "Siswa tidak lulus ujian. (Nilai: 71, Syarat: >= 75)\n"
     ]
    }
   ],
   "source": [
    "print('Program untuk menentukan kelulusan ujian')\n",
    "print('========================================')\n",
    "\n",
    "\n",
    "nim_akhir = 7\n",
    "nilai_ujian = 71\n",
    "\n",
    "if nim_akhir > 500:\n",
    "    syarat_kelulusan = 80\n",
    "else:\n",
    "    syarat_kelulusan = 75\n",
    "\n",
    "if nilai_ujian >= syarat_kelulusan:\n",
    "    print(f\"Siswa lulus ujian! (Nilai: {nilai_ujian}, Syarat: >= {syarat_kelulusan})\")\n",
    "else:\n",
    "    print(f\"Siswa tidak lulus ujian. (Nilai: {nilai_ujian}, Syarat: >= {syarat_kelulusan})\")\n"
   ]
  },
  {
   "cell_type": "markdown",
   "metadata": {},
   "source": [
    "# Soal 3"
   ]
  },
  {
   "cell_type": "code",
   "execution_count": 49,
   "metadata": {},
   "outputs": [
    {
     "name": "stdout",
     "output_type": "stream",
     "text": [
      "Program untuk menentukan apakah pelanggan mendapatkan gratis ongkir\n",
      "===================================================================\n",
      "Maaf, Anda belum memenuhi syarat untuk gratis ongkir.\n",
      "Total belanja: Rp 200006\n",
      "Syarat gratis ongkir: Total belanja >= Rp 200007\n"
     ]
    }
   ],
   "source": [
    "print('Program untuk menentukan apakah pelanggan mendapatkan gratis ongkir')\n",
    "print(\"===================================================================\")\n",
    "\n",
    "nim_akhir = 7  \n",
    "gratis_ongkir_minimal = 200000 + nim_akhir\n",
    "\n",
    "total_belanja = 200006\n",
    "\n",
    "\n",
    "if total_belanja >= gratis_ongkir_minimal:\n",
    "    print(\"Selamat! Anda mendapatkan gratis ongkir.\")\n",
    "    print(f\"Total belanja: Rp {total_belanja}\")\n",
    "    print(f\"Syarat gratis ongkir: Total belanja >= Rp {gratis_ongkir_minimal}\")\n",
    "else:\n",
    "    print(\"Maaf, Anda belum memenuhi syarat untuk gratis ongkir.\")\n",
    "    print(f\"Total belanja: Rp {total_belanja}\")\n",
    "    print(f\"Syarat gratis ongkir: Total belanja >= Rp {gratis_ongkir_minimal}\")\n"
   ]
  },
  {
   "cell_type": "markdown",
   "metadata": {},
   "source": [
    "# Soal 4"
   ]
  },
  {
   "cell_type": "code",
   "execution_count": 60,
   "metadata": {},
   "outputs": [
    {
     "name": "stdout",
     "output_type": "stream",
     "text": [
      "Program menghitung gaji karyawan dengan bonus\n",
      "===============================================\n",
      "Tidak ada bonus karena jam kerja ≤ 40 jam.\n",
      "\n",
      "Rincian Gaji Karyawan \n",
      "Gaji pokok: Rp 2000000.00\n",
      "Bonus: Rp 0.00\n",
      "Total gaji: Rp 2000000.00\n"
     ]
    }
   ],
   "source": [
    "print('Program menghitung gaji karyawan dengan bonus')\n",
    "print('===============================================')\n",
    "gaji_per_jam = 50000  \n",
    "jam_kerja = 40      \n",
    "nim_akhir = 7         \n",
    "gaji_pokok = gaji_per_jam * jam_kerja\n",
    "\n",
    "if jam_kerja > 40:\n",
    "    jam_lembur = jam_kerja - 40\n",
    "    bonus = (gaji_per_jam * jam_lembur * 0.10) + nim_akhir\n",
    "    print(f\"Bonus diberikan karena bekerja lebih dari 40 jam: Rp {bonus:.2f}\")\n",
    "else:\n",
    "    bonus = 0\n",
    "    print(\"Tidak ada bonus karena jam kerja ≤ 40 jam.\")\n",
    "\n",
    "total_gaji = gaji_pokok + bonus\n",
    "\n",
    "print(\"\\nRincian Gaji Karyawan \")\n",
    "print(f\"Gaji pokok: Rp {gaji_pokok:.2f}\")\n",
    "print(f\"Bonus: Rp {bonus:.2f}\")\n",
    "print(f\"Total gaji: Rp {total_gaji:.2f}\")\n"
   ]
  },
  {
   "cell_type": "markdown",
   "metadata": {},
   "source": [
    "# Soal 5"
   ]
  },
  {
   "cell_type": "code",
   "execution_count": 67,
   "metadata": {},
   "outputs": [
    {
     "name": "stdout",
     "output_type": "stream",
     "text": [
      "Program menghitung total biaya dengan pajak restoran\n",
      "====================================================\n",
      "Tidak ada pajak dikenakan karena total pesanan ≤ Rp 49993\n",
      "\n",
      " Rincian Biaya \n",
      "Total pesanan: Rp 49992.00\n",
      "Pajak: Rp 0.00\n",
      "Total biaya yang harus dibayar: Rp 49992.00\n"
     ]
    }
   ],
   "source": [
    "print('Program menghitung total biaya dengan pajak restoran')\n",
    "print(\"====================================================\")\n",
    "nim_akhir = 7  \n",
    "batas_pajak = 50000 - nim_akhir  \n",
    "total_pesanan = 49992\n",
    "\n",
    "\n",
    "if total_pesanan >= batas_pajak:\n",
    "    pajak = total_pesanan * 0.05 \n",
    "    print(f\"Pajak dikenakan sebesar 5%.\")\n",
    "else:\n",
    "    pajak = 0\n",
    "    print(f\"Tidak ada pajak dikenakan karena total pesanan ≤ Rp {batas_pajak}\")\n",
    "\n",
    "total_biaya = total_pesanan + pajak\n",
    "\n",
    "print(\"\\n Rincian Biaya \")\n",
    "print(f\"Total pesanan: Rp {total_pesanan:.2f}\")\n",
    "print(f\"Pajak: Rp {pajak:.2f}\")\n",
    "print(f\"Total biaya yang harus dibayar: Rp {total_biaya:.2f}\")\n"
   ]
  },
  {
   "cell_type": "markdown",
   "metadata": {},
   "source": [
    "# Soal 6"
   ]
  },
  {
   "cell_type": "code",
   "execution_count": 69,
   "metadata": {},
   "outputs": [
    {
     "name": "stdout",
     "output_type": "stream",
     "text": [
      "Program untuk menentukan hasil latihan pelari\n",
      "===============================================\n",
      "Sayang sekali, Anda belum memenuhi target latihan.\n",
      "Target jarak lari: 7 km\n",
      "Jarak lari Anda: 6 km\n"
     ]
    }
   ],
   "source": [
    "print('Program untuk menentukan hasil latihan pelari')\n",
    "print(\"===============================================\")\n",
    "\n",
    "nim_akhir = 7 \n",
    "jarak_lari = 6\n",
    "\n",
    "\n",
    "if jarak_lari > nim_akhir:\n",
    "    print(\"Selamat! Anda berhasil memenuhi target latihan.\")\n",
    "    print(f\"Target jarak lari: {nim_akhir} km\")\n",
    "    print(f\"Jarak lari Anda: {jarak_lari} km\")\n",
    "else:\n",
    "    print(\"Sayang sekali, Anda belum memenuhi target latihan.\")\n",
    "    print(f\"Target jarak lari: {nim_akhir} km\")\n",
    "    print(f\"Jarak lari Anda: {jarak_lari} km\")\n"
   ]
  },
  {
   "cell_type": "markdown",
   "metadata": {},
   "source": [
    "# Soal 7"
   ]
  },
  {
   "cell_type": "code",
   "execution_count": 71,
   "metadata": {},
   "outputs": [
    {
     "name": "stdout",
     "output_type": "stream",
     "text": [
      "Program untuk menghitung harga tiket bioskop\n",
      "============================================\n",
      "Harga normal berlaku karena usia anak >= 5 tahun.\n",
      "\n",
      " Rincian Harga Tiket\n",
      "Usia anak: 6 tahun\n",
      "Harga tiket: Rp 50000.00\n"
     ]
    }
   ],
   "source": [
    "print('Program untuk menghitung harga tiket bioskop')\n",
    "print('============================================')\n",
    "\n",
    "nim_akhir = 7 \n",
    "harga_tiket = 50000\n",
    "usia_anak = 6\n",
    "\n",
    "\n",
    "if usia_anak < 5:\n",
    "    if nim_akhir % 2 == 0:\n",
    "        harga_final = 0\n",
    "        print(\"Anak mendapatkan tiket gratis karena usia di bawah 5 tahun dan NIM genap.\")\n",
    "    else:\n",
    "        harga_final = harga_tiket * 0.50\n",
    "        print(\"Anak mendapatkan diskon 50% karena usia di bawah 5 tahun dan NIM ganjil.\")\n",
    "else:\n",
    "    harga_final = harga_tiket\n",
    "    print(\"Harga normal berlaku karena usia anak >= 5 tahun.\")\n",
    "\n",
    "print(\"\\n Rincian Harga Tiket\")\n",
    "print(f\"Usia anak: {usia_anak} tahun\")\n",
    "print(f\"Harga tiket: Rp {harga_final:.2f}\")\n"
   ]
  },
  {
   "cell_type": "markdown",
   "metadata": {},
   "source": [
    "# Soal 8"
   ]
  },
  {
   "cell_type": "code",
   "execution_count": 75,
   "metadata": {},
   "outputs": [
    {
     "name": "stdout",
     "output_type": "stream",
     "text": [
      " Program menghitung total harga buku dengan diskon\n",
      "==================================================\n",
      "Diskon yang diberikan: 10%\n",
      "\n",
      " Rincian Total Harga\n",
      "Jumlah buku yang dibeli: 6\n",
      "Harga per buku: IDR 13500.00\n",
      "Total harga sebelum diskon: IDR 81000.00\n",
      "Potongan harga: IDR 8100.00\n",
      "Total harga setelah diskon: IDR 72900.00\n"
     ]
    }
   ],
   "source": [
    "print(' Program menghitung total harga buku dengan diskon')\n",
    "print('==================================================')\n",
    "\n",
    "nim_akhir = 7\n",
    "jumlah_buku = 6 \n",
    "harga_per_buku = 13500\n",
    "total_harga = jumlah_buku * harga_per_buku\n",
    "\n",
    "\n",
    "if jumlah_buku > 5 and nim_akhir > 300:\n",
    "    diskon = 0.20  \n",
    "    print(\"Diskon yang diberikan: 20%\")\n",
    "else:\n",
    "    diskon = 0.10  \n",
    "    print(\"Diskon yang diberikan: 10%\")\n",
    "\n",
    "potongan_harga = total_harga * diskon\n",
    "total_setelah_diskon = total_harga - potongan_harga\n",
    "\n",
    "print(\"\\n Rincian Total Harga\")\n",
    "print(f\"Jumlah buku yang dibeli: {jumlah_buku}\")\n",
    "print(f\"Harga per buku: IDR {harga_per_buku:.2f}\")\n",
    "print(f\"Total harga sebelum diskon: IDR {total_harga:.2f}\")\n",
    "print(f\"Potongan harga: IDR {potongan_harga:.2f}\")\n",
    "print(f\"Total harga setelah diskon: IDR {total_setelah_diskon:.2f}\")\n"
   ]
  },
  {
   "cell_type": "markdown",
   "metadata": {},
   "source": [
    "# Soal 9"
   ]
  },
  {
   "cell_type": "code",
   "execution_count": 82,
   "metadata": {},
   "outputs": [
    {
     "name": "stdout",
     "output_type": "stream",
     "text": [
      "Program menentukan bilangan genap atau ganjil\n",
      "===============================================\n",
      "NIM mu adalah\n",
      "Ganjil\n"
     ]
    }
   ],
   "source": [
    "print('Program menentukan bilangan genap atau ganjil')\n",
    "print('===============================================')\n",
    "\n",
    "nim_akhir = 7\n",
    "\n",
    "\n",
    "if nim_akhir % 2 == 0:\n",
    "    print('NIM mu adalah')\n",
    "    print(\"Genap\") \n",
    "else:\n",
    "    print('NIM mu adalah') \n",
    "    print(\"Ganjil\")\n"
   ]
  },
  {
   "cell_type": "markdown",
   "metadata": {},
   "source": [
    "# Soal 10"
   ]
  },
  {
   "cell_type": "code",
   "execution_count": 89,
   "metadata": {},
   "outputs": [
    {
     "name": "stdout",
     "output_type": "stream",
     "text": [
      "Menentukan apakah suatu tahun kabisat atau tidak\n",
      "==================================================\n",
      "Bukan Tahun Kabisat\n"
     ]
    }
   ],
   "source": [
    "print('Menentukan apakah suatu tahun kabisat atau tidak')\n",
    "print('==================================================')\n",
    "\n",
    "nim_akhir = 7\n",
    "\n",
    "if nim_akhir % 2 != 0:\n",
    "    print('Bukan Tahun Kabisat')\n",
    "else:\n",
    "    print('Tahun Kabisat')"
   ]
  },
  {
   "cell_type": "markdown",
   "metadata": {},
   "source": [
    "# Soal 11"
   ]
  },
  {
   "cell_type": "code",
   "execution_count": 101,
   "metadata": {},
   "outputs": [
    {
     "name": "stdout",
     "output_type": "stream",
     "text": [
      "Program mencetak daftar belanjaan\n",
      "===================================\n",
      "Daftar belanjaan Anda akan dicetak sebanyak 7 kali:\n",
      "\n",
      "Cetakan ke-1:\n",
      "1. Iphone - 1 pcs\n",
      "2. Laptop Asus TUF - 2 pcs\n",
      "3. Tas Ransel - 1 pcs\n",
      "4. Pulpen - 3 pcs\n",
      "\n",
      "Cetakan ke-2:\n",
      "1. Iphone - 1 pcs\n",
      "2. Laptop Asus TUF - 2 pcs\n",
      "3. Tas Ransel - 1 pcs\n",
      "4. Pulpen - 3 pcs\n",
      "\n",
      "Cetakan ke-3:\n",
      "1. Iphone - 1 pcs\n",
      "2. Laptop Asus TUF - 2 pcs\n",
      "3. Tas Ransel - 1 pcs\n",
      "4. Pulpen - 3 pcs\n",
      "\n",
      "Cetakan ke-4:\n",
      "1. Iphone - 1 pcs\n",
      "2. Laptop Asus TUF - 2 pcs\n",
      "3. Tas Ransel - 1 pcs\n",
      "4. Pulpen - 3 pcs\n",
      "\n",
      "Cetakan ke-5:\n",
      "1. Iphone - 1 pcs\n",
      "2. Laptop Asus TUF - 2 pcs\n",
      "3. Tas Ransel - 1 pcs\n",
      "4. Pulpen - 3 pcs\n",
      "\n",
      "Cetakan ke-6:\n",
      "1. Iphone - 1 pcs\n",
      "2. Laptop Asus TUF - 2 pcs\n",
      "3. Tas Ransel - 1 pcs\n",
      "4. Pulpen - 3 pcs\n",
      "\n",
      "Cetakan ke-7:\n",
      "1. Iphone - 1 pcs\n",
      "2. Laptop Asus TUF - 2 pcs\n",
      "3. Tas Ransel - 1 pcs\n",
      "4. Pulpen - 3 pcs\n",
      "\n"
     ]
    }
   ],
   "source": [
    "print('Program mencetak daftar belanjaan')\n",
    "print('===================================')\n",
    "\n",
    "nim_akhir = 7\n",
    "jumlah_pengulangan = nim_akhir % 10\n",
    "daftar_belanja = [\n",
    "    \"1. Iphone - 1 pcs\",\n",
    "    \"2. Laptop Asus TUF - 2 pcs\",\n",
    "    \"3. Tas Ransel - 1 pcs\",\n",
    "    \"4. Pulpen - 3 pcs\"\n",
    "]\n",
    "\n",
    "print(\"Daftar belanjaan Anda akan dicetak sebanyak\", jumlah_pengulangan, \"kali:\\n\")\n",
    "for i in range(jumlah_pengulangan):\n",
    "    print(f\"Cetakan ke-{i + 1}:\")\n",
    "    for item in daftar_belanja:\n",
    "        print(item)\n",
    "    print()\n"
   ]
  },
  {
   "cell_type": "markdown",
   "metadata": {},
   "source": [
    "# Soal 12"
   ]
  },
  {
   "cell_type": "code",
   "execution_count": 109,
   "metadata": {},
   "outputs": [
    {
     "name": "stdout",
     "output_type": "stream",
     "text": [
      "Program untuk mencetak bilangan kelipatan tertentu\n",
      "===================================================\n",
      "Bilangan kelipatan 2 dari 1 sampai 100:\n",
      "\n",
      "2 4 6 8 10 12 14 16 18 20 22 24 26 28 30 32 34 36 38 40 42 44 46 48 50 52 54 56 58 60 62 64 66 68 70 72 74 76 78 80 82 84 86 88 90 92 94 96 98 100 "
     ]
    }
   ],
   "source": [
    "print('Program untuk mencetak bilangan kelipatan tertentu')\n",
    "print('===================================================')\n",
    "\n",
    "nim_akhir = 7\n",
    "kelipatan = nim_akhir % 5\n",
    "\n",
    "\n",
    "if kelipatan == 0:\n",
    "    kelipatan = 5\n",
    "\n",
    "print(f\"Bilangan kelipatan {kelipatan} dari 1 sampai 100:\\n\")\n",
    "\n",
    "for angka in range(1, 101):\n",
    "    if angka % kelipatan == 0:\n",
    "        print(angka, end=\" \")\n"
   ]
  },
  {
   "cell_type": "markdown",
   "metadata": {},
   "source": [
    "# Soal 13"
   ]
  },
  {
   "cell_type": "code",
   "execution_count": 110,
   "metadata": {},
   "outputs": [
    {
     "name": "stdout",
     "output_type": "stream",
     "text": [
      "Program mencetak tabel perkalian\n",
      "=================================\n",
      "Tabel perkalian untuk angka 7:\n",
      "\n",
      "7 x 1 = 7\n",
      "7 x 2 = 14\n",
      "7 x 3 = 21\n",
      "7 x 4 = 28\n",
      "7 x 5 = 35\n",
      "7 x 6 = 42\n",
      "7 x 7 = 49\n",
      "7 x 8 = 56\n",
      "7 x 9 = 63\n",
      "7 x 10 = 70\n"
     ]
    }
   ],
   "source": [
    "print('Program mencetak tabel perkalian')\n",
    "print('=================================')\n",
    "\n",
    "nim_akhir = 7\n",
    "angka_tabel = nim_akhir % 9\n",
    "\n",
    "\n",
    "if angka_tabel == 0:\n",
    "    angka_tabel = 9\n",
    "\n",
    "print(f\"Tabel perkalian untuk angka {angka_tabel}:\\n\")\n",
    "\n",
    "for i in range(1, 11):  \n",
    "    hasil = angka_tabel * i\n",
    "    print(f\"{angka_tabel} x {i} = {hasil}\")\n"
   ]
  },
  {
   "cell_type": "markdown",
   "metadata": {},
   "source": [
    "# Soal 14"
   ]
  },
  {
   "cell_type": "code",
   "execution_count": 113,
   "metadata": {},
   "outputs": [
    {
     "name": "stdout",
     "output_type": "stream",
     "text": [
      "Program untuk mencetak pola bintang segitiga siku-siku\n",
      "========================================================\n",
      "Pola segitiga dengan tinggi 7:\n",
      "\n",
      "^\n",
      "^^\n",
      "^^^\n",
      "^^^^\n",
      "^^^^^\n",
      "^^^^^^\n",
      "^^^^^^^\n"
     ]
    }
   ],
   "source": [
    "print('Program untuk mencetak pola bintang segitiga siku-siku')\n",
    "print('========================================================')\n",
    "\n",
    "nim_akhir = 7\n",
    "tinggi_segitiga = nim_akhir % 7\n",
    "\n",
    "\n",
    "if tinggi_segitiga == 0:\n",
    "    tinggi_segitiga = 7\n",
    "\n",
    "print(f\"Pola segitiga dengan tinggi {tinggi_segitiga}:\\n\")\n",
    "\n",
    "for i in range(1, tinggi_segitiga + 1):  \n",
    "    print(\"^\" * i)  \n"
   ]
  },
  {
   "cell_type": "markdown",
   "metadata": {},
   "source": [
    "# Soal 15"
   ]
  },
  {
   "cell_type": "code",
   "execution_count": 114,
   "metadata": {},
   "outputs": [
    {
     "name": "stdout",
     "output_type": "stream",
     "text": [
      "Program untuk mencetak bilangan prima\n",
      "=======================================\n",
      "Bilangan prima dari 1 sampai 7:\n",
      "\n",
      "2 3 5 7 "
     ]
    }
   ],
   "source": [
    "print('Program untuk mencetak bilangan prima')\n",
    "print('=======================================')\n",
    "\n",
    "nim_akhir = 7  \n",
    "print(f\"Bilangan prima dari 1 sampai {nim_akhir}:\\n\")\n",
    "\n",
    "\n",
    "def apakah_prima(n):\n",
    "    if n <= 1:  \n",
    "        return False\n",
    "    for i in range(2, int(n**0.5) + 1):\n",
    "        if n % i == 0:\n",
    "            return False\n",
    "    return True\n",
    "\n",
    "for angka in range(1, nim_akhir + 1):\n",
    "    if apakah_prima(angka):\n",
    "        print(angka, end=\" \")\n"
   ]
  },
  {
   "cell_type": "markdown",
   "metadata": {},
   "source": [
    "# Soal 16"
   ]
  },
  {
   "cell_type": "code",
   "execution_count": 117,
   "metadata": {},
   "outputs": [
    {
     "name": "stdout",
     "output_type": "stream",
     "text": [
      "Program mencetak deret Fibonacci\n",
      "==================================\n",
      "Deret Fibonacci sebanyak 7 bilangan:\n",
      "\n",
      "0 1 1 2 3 5 8 "
     ]
    }
   ],
   "source": [
    "print('Program mencetak deret Fibonacci')\n",
    "print('==================================')\n",
    "\n",
    "nim_akhir = 7\n",
    "jumlah_bilangan = nim_akhir % 10\n",
    "\n",
    "\n",
    "if jumlah_bilangan == 0:\n",
    "    jumlah_bilangan = 10\n",
    "\n",
    "print(f\"Deret Fibonacci sebanyak {jumlah_bilangan} bilangan:\\n\")\n",
    "\n",
    "def fibonacci(n):\n",
    "    a, b = 0, 1\n",
    "    for _ in range(n):\n",
    "        print(a, end=\" \")\n",
    "        a, b = b, a + b  \n",
    "\n",
    "fibonacci(jumlah_bilangan)\n"
   ]
  },
  {
   "cell_type": "markdown",
   "metadata": {},
   "source": [
    "# Soal 17"
   ]
  },
  {
   "cell_type": "code",
   "execution_count": 120,
   "metadata": {},
   "outputs": [
    {
     "name": "stdout",
     "output_type": "stream",
     "text": [
      "Program mencetak bilangan kelipatan tertentu\n",
      "===============================================\n",
      "Bilangan kelipatan 1 dari 1 sampai 100:\n",
      "\n",
      "1 2 3 4 5 6 7 8 9 10 11 12 13 14 15 16 17 18 19 20 21 22 23 24 25 26 27 28 29 30 31 32 33 34 35 36 37 38 39 40 41 42 43 44 45 46 47 48 49 50 51 52 53 54 55 56 57 58 59 60 61 62 63 64 65 66 67 68 69 70 71 72 73 74 75 76 77 78 79 80 81 82 83 84 85 86 87 88 89 90 91 92 93 94 95 96 97 98 99 100 "
     ]
    }
   ],
   "source": [
    "print('Program mencetak bilangan kelipatan tertentu')\n",
    "print('===============================================')\n",
    "\n",
    "nim_akhir = 7\n",
    "kelipatan = nim_akhir % 6\n",
    "\n",
    "\n",
    "if kelipatan == 0:\n",
    "    kelipatan = 6\n",
    "\n",
    "print(f\"Bilangan kelipatan {kelipatan} dari 1 sampai 100:\\n\")\n",
    "\n",
    "for angka in range(1, 101):  \n",
    "    if angka % kelipatan == 0:\n",
    "        print(angka, end=\" \")\n"
   ]
  },
  {
   "cell_type": "markdown",
   "metadata": {},
   "source": [
    "# Soal 18"
   ]
  },
  {
   "cell_type": "code",
   "execution_count": 121,
   "metadata": {},
   "outputs": [
    {
     "name": "stdout",
     "output_type": "stream",
     "text": [
      "Program mencetak bilangan ganjil\n",
      "==================================\n",
      "Bilangan ganjil dari 1 sampai 7:\n",
      "\n",
      "1 3 5 7 "
     ]
    }
   ],
   "source": [
    "print('Program mencetak bilangan ganjil')\n",
    "print('==================================')\n",
    "\n",
    "nim_akhir = 7 \n",
    "\n",
    "print(f\"Bilangan ganjil dari 1 sampai {nim_akhir}:\\n\")\n",
    "\n",
    "\n",
    "for angka in range(1, nim_akhir + 1):\n",
    "    if angka % 2 != 0:  \n",
    "        print(angka, end=\" \")\n"
   ]
  },
  {
   "cell_type": "markdown",
   "metadata": {},
   "source": [
    "# Soal 19"
   ]
  },
  {
   "cell_type": "code",
   "execution_count": 124,
   "metadata": {},
   "outputs": [
    {
     "name": "stdout",
     "output_type": "stream",
     "text": [
      "Program untuk menghitung faktorial\n",
      "===================================\n",
      "Menghitung faktorial dari 7:\n",
      "\n",
      "Faktorial dari 7 adalah 5040\n"
     ]
    }
   ],
   "source": [
    "print('Program untuk menghitung faktorial')\n",
    "print('===================================')\n",
    "\n",
    "nim_akhir = 7  \n",
    "angka_faktorial = nim_akhir % 8\n",
    "\n",
    "\n",
    "if angka_faktorial == 0:\n",
    "    angka_faktorial = 1\n",
    "\n",
    "print(f\"Menghitung faktorial dari {angka_faktorial}:\\n\")\n",
    "\n",
    "faktorial = 1\n",
    "for i in range(1, angka_faktorial + 1):\n",
    "    faktorial *= i\n",
    "\n",
    "print(f\"Faktorial dari {angka_faktorial} adalah {faktorial}\")\n"
   ]
  },
  {
   "cell_type": "markdown",
   "metadata": {},
   "source": [
    "# Soal 20"
   ]
  },
  {
   "cell_type": "code",
   "execution_count": 126,
   "metadata": {},
   "outputs": [
    {
     "name": "stdout",
     "output_type": "stream",
     "text": [
      "Program untuk mencetak \"Terima Kasih\" beberapa kali\n",
      "====================================================\n",
      "Mencetak 'Terima Kasih' sebanyak 2 kali:\n",
      "\n",
      "1. Terima Kasih, syukron, arigatou\n",
      "2. Terima Kasih, syukron, arigatou\n"
     ]
    }
   ],
   "source": [
    "print('Program untuk mencetak \"Terima Kasih\" beberapa kali')\n",
    "print('====================================================')\n",
    "\n",
    "nim_akhir = 7\n",
    "jumlah_pengulangan = nim_akhir % 5\n",
    "\n",
    "\n",
    "if jumlah_pengulangan == 0:\n",
    "    jumlah_pengulangan = 5\n",
    "\n",
    "print(f\"Mencetak 'Terima Kasih' sebanyak {jumlah_pengulangan} kali:\\n\")\n",
    "\n",
    "for i in range(jumlah_pengulangan):\n",
    "    print(f\"{i + 1}. Terima Kasih, syukron, arigatou\")"
   ]
  }
 ],
 "metadata": {
  "kernelspec": {
   "display_name": "Python 3",
   "language": "python",
   "name": "python3"
  },
  "language_info": {
   "codemirror_mode": {
    "name": "ipython",
    "version": 3
   },
   "file_extension": ".py",
   "mimetype": "text/x-python",
   "name": "python",
   "nbconvert_exporter": "python",
   "pygments_lexer": "ipython3",
   "version": "3.13.2"
  }
 },
 "nbformat": 4,
 "nbformat_minor": 2
}
